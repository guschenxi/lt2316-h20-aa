{
 "cells": [
  {
   "cell_type": "markdown",
   "metadata": {},
   "source": [
    "# Assignment 1"
   ]
  },
  {
   "cell_type": "markdown",
   "metadata": {},
   "source": [
    "## Loading data"
   ]
  },
  {
   "cell_type": "code",
   "execution_count": 9,
   "metadata": {
    "scrolled": false
   },
   "outputs": [],
   "source": [
    "from aa import DataLoader\n",
    "from aa import extract_features\n",
    "from aa import check_output"
   ]
  },
  {
   "cell_type": "code",
   "execution_count": 10,
   "metadata": {},
   "outputs": [],
   "source": [
    "# IN THIS BOX YOU ARE ALLOWED TO ADD ANY CODE FOR SETTING UP A PYTORCH DEVICE\n",
    "import torch\n",
    "\n",
    "device = torch.device(\"cuda\")"
   ]
  },
  {
   "cell_type": "code",
   "execution_count": 11,
   "metadata": {
    "scrolled": true
   },
   "outputs": [
    {
     "name": "stdout",
     "output_type": "stream",
     "text": [
      "self.max_sample_length 87 72 66 87\n"
     ]
    }
   ],
   "source": [
    "dataset = DataLoader(data_dir=\"DDICorpus\", device=device)"
   ]
  },
  {
   "cell_type": "code",
   "execution_count": 12,
   "metadata": {
    "scrolled": false
   },
   "outputs": [
    {
     "data": {
      "text/html": [
       "<div>\n",
       "<style scoped>\n",
       "    .dataframe tbody tr th:only-of-type {\n",
       "        vertical-align: middle;\n",
       "    }\n",
       "\n",
       "    .dataframe tbody tr th {\n",
       "        vertical-align: top;\n",
       "    }\n",
       "\n",
       "    .dataframe thead th {\n",
       "        text-align: right;\n",
       "    }\n",
       "</style>\n",
       "<table border=\"1\" class=\"dataframe\">\n",
       "  <thead>\n",
       "    <tr style=\"text-align: right;\">\n",
       "      <th></th>\n",
       "      <th>sentence_id</th>\n",
       "      <th>token_id</th>\n",
       "      <th>char_start_id</th>\n",
       "      <th>char_end_id</th>\n",
       "      <th>split</th>\n",
       "    </tr>\n",
       "  </thead>\n",
       "  <tbody>\n",
       "    <tr>\n",
       "      <th>0</th>\n",
       "      <td>DDI-MedLine.d69.s0</td>\n",
       "      <td>0</td>\n",
       "      <td>0</td>\n",
       "      <td>12</td>\n",
       "      <td>TRAIN</td>\n",
       "    </tr>\n",
       "    <tr>\n",
       "      <th>1</th>\n",
       "      <td>DDI-MedLine.d69.s0</td>\n",
       "      <td>1</td>\n",
       "      <td>13</td>\n",
       "      <td>23</td>\n",
       "      <td>TRAIN</td>\n",
       "    </tr>\n",
       "    <tr>\n",
       "      <th>2</th>\n",
       "      <td>DDI-MedLine.d69.s0</td>\n",
       "      <td>2</td>\n",
       "      <td>24</td>\n",
       "      <td>26</td>\n",
       "      <td>TRAIN</td>\n",
       "    </tr>\n",
       "    <tr>\n",
       "      <th>3</th>\n",
       "      <td>DDI-MedLine.d69.s0</td>\n",
       "      <td>3</td>\n",
       "      <td>27</td>\n",
       "      <td>35</td>\n",
       "      <td>TRAIN</td>\n",
       "    </tr>\n",
       "    <tr>\n",
       "      <th>4</th>\n",
       "      <td>DDI-MedLine.d69.s0</td>\n",
       "      <td>4</td>\n",
       "      <td>36</td>\n",
       "      <td>51</td>\n",
       "      <td>TRAIN</td>\n",
       "    </tr>\n",
       "  </tbody>\n",
       "</table>\n",
       "</div>"
      ],
      "text/plain": [
       "          sentence_id  token_id  char_start_id  char_end_id  split\n",
       "0  DDI-MedLine.d69.s0         0              0           12  TRAIN\n",
       "1  DDI-MedLine.d69.s0         1             13           23  TRAIN\n",
       "2  DDI-MedLine.d69.s0         2             24           26  TRAIN\n",
       "3  DDI-MedLine.d69.s0         3             27           35  TRAIN\n",
       "4  DDI-MedLine.d69.s0         4             36           51  TRAIN"
      ]
     },
     "execution_count": 12,
     "metadata": {},
     "output_type": "execute_result"
    }
   ],
   "source": [
    "dataset.data_df.head()"
   ]
  },
  {
   "cell_type": "code",
   "execution_count": 13,
   "metadata": {
    "scrolled": true
   },
   "outputs": [
    {
     "data": {
      "text/html": [
       "<div>\n",
       "<style scoped>\n",
       "    .dataframe tbody tr th:only-of-type {\n",
       "        vertical-align: middle;\n",
       "    }\n",
       "\n",
       "    .dataframe tbody tr th {\n",
       "        vertical-align: top;\n",
       "    }\n",
       "\n",
       "    .dataframe thead th {\n",
       "        text-align: right;\n",
       "    }\n",
       "</style>\n",
       "<table border=\"1\" class=\"dataframe\">\n",
       "  <thead>\n",
       "    <tr style=\"text-align: right;\">\n",
       "      <th></th>\n",
       "      <th>sentence_id</th>\n",
       "      <th>ner_id</th>\n",
       "      <th>char_start_id</th>\n",
       "      <th>char_end_id</th>\n",
       "    </tr>\n",
       "  </thead>\n",
       "  <tbody>\n",
       "    <tr>\n",
       "      <th>0</th>\n",
       "      <td>DDI-MedLine.d69.s0</td>\n",
       "      <td>4</td>\n",
       "      <td>70</td>\n",
       "      <td>84</td>\n",
       "    </tr>\n",
       "    <tr>\n",
       "      <th>1</th>\n",
       "      <td>DDI-MedLine.d69.s0</td>\n",
       "      <td>4</td>\n",
       "      <td>141</td>\n",
       "      <td>150</td>\n",
       "    </tr>\n",
       "    <tr>\n",
       "      <th>2</th>\n",
       "      <td>DDI-MedLine.d69.s0</td>\n",
       "      <td>4</td>\n",
       "      <td>156</td>\n",
       "      <td>165</td>\n",
       "    </tr>\n",
       "    <tr>\n",
       "      <th>3</th>\n",
       "      <td>DDI-MedLine.d69.s1</td>\n",
       "      <td>4</td>\n",
       "      <td>28</td>\n",
       "      <td>42</td>\n",
       "    </tr>\n",
       "    <tr>\n",
       "      <th>4</th>\n",
       "      <td>DDI-MedLine.d69.s1</td>\n",
       "      <td>4</td>\n",
       "      <td>96</td>\n",
       "      <td>105</td>\n",
       "    </tr>\n",
       "  </tbody>\n",
       "</table>\n",
       "</div>"
      ],
      "text/plain": [
       "          sentence_id  ner_id  char_start_id  char_end_id\n",
       "0  DDI-MedLine.d69.s0       4             70           84\n",
       "1  DDI-MedLine.d69.s0       4            141          150\n",
       "2  DDI-MedLine.d69.s0       4            156          165\n",
       "3  DDI-MedLine.d69.s1       4             28           42\n",
       "4  DDI-MedLine.d69.s1       4             96          105"
      ]
     },
     "execution_count": 13,
     "metadata": {},
     "output_type": "execute_result"
    }
   ],
   "source": [
    "dataset.ner_df.head()"
   ]
  },
  {
   "cell_type": "code",
   "execution_count": 14,
   "metadata": {
    "scrolled": true
   },
   "outputs": [
    {
     "data": {
      "text/plain": [
       "[['differential', 0],\n",
       " ['regulation', 1],\n",
       " ['of', 2],\n",
       " ['tyrosine', 3],\n",
       " ['phosphorylation', 4],\n",
       " ['in', 5],\n",
       " ['tumor', 6],\n",
       " ['cells', 7],\n",
       " ['by', 8],\n",
       " ['contortrostatin,', 9],\n",
       " ['a', 10],\n",
       " ['homodimeric', 11],\n",
       " ['disintegrin,', 12],\n",
       " ['and', 13],\n",
       " ['monomeric', 14]]"
      ]
     },
     "execution_count": 14,
     "metadata": {},
     "output_type": "execute_result"
    }
   ],
   "source": [
    "dataset.vocab[:15]"
   ]
  },
  {
   "cell_type": "code",
   "execution_count": 15,
   "metadata": {
    "scrolled": true
   },
   "outputs": [
    {
     "data": {
      "text/plain": [
       "{0: 'O', 1: 'drug', 2: 'group', 3: 'brand', 4: 'drug_n'}"
      ]
     },
     "execution_count": 15,
     "metadata": {},
     "output_type": "execute_result"
    }
   ],
   "source": [
    "dataset.id2ner"
   ]
  },
  {
   "cell_type": "code",
   "execution_count": 16,
   "metadata": {},
   "outputs": [
    {
     "data": {
      "text/plain": [
       "87"
      ]
     },
     "execution_count": 16,
     "metadata": {},
     "output_type": "execute_result"
    }
   ],
   "source": [
    "dataset.max_sample_length"
   ]
  },
  {
   "cell_type": "code",
   "execution_count": 17,
   "metadata": {
    "scrolled": true
   },
   "outputs": [
    {
     "data": {
      "text/plain": [
       "'our results suggest that alterations of cation-chloride cotransporter functions, comprising a higher nkcc1 action, contribute to hyperexcitability within the hippocampus following se.'"
      ]
     },
     "execution_count": 17,
     "metadata": {},
     "output_type": "execute_result"
    }
   ],
   "source": [
    "dataset.get_random_sample()"
   ]
  },
  {
   "cell_type": "markdown",
   "metadata": {},
   "source": [
    "### Data Exploration"
   ]
  },
  {
   "cell_type": "code",
   "execution_count": 18,
   "metadata": {},
   "outputs": [
    {
     "name": "stdout",
     "output_type": "stream",
     "text": [
      "ner_counts_train 1972\n",
      "ner_counts_val 712\n",
      "ner_counts_test 141\n"
     ]
    },
    {
     "data": {
      "image/png": "[encoded data removed]",
      "text/plain": [
       "<Figure size 432x288 with 1 Axes>"
      ]
     },
     "metadata": {
      "needs_background": "light"
     },
     "output_type": "display_data"
    }
   ],
   "source": [
    "dataset.plot_split_ner_distribution()"
   ]
  },
  {
   "cell_type": "markdown",
   "metadata": {},
   "source": [
    "### Labels"
   ]
  },
  {
   "cell_type": "code",
   "execution_count": 20,
   "metadata": {
    "scrolled": true
   },
   "outputs": [
    {
     "ename": "AttributeError",
     "evalue": "'list' object has no attribute 'numel'",
     "output_type": "error",
     "traceback": [
      "\u001b[0;31m---------------------------------------------------------------------------\u001b[0m",
      "\u001b[0;31mAttributeError\u001b[0m                            Traceback (most recent call last)",
      "\u001b[0;32m<ipython-input-20-9b7968fa3a82>\u001b[0m in \u001b[0;36m<module>\u001b[0;34m\u001b[0m\n\u001b[0;32m----> 1\u001b[0;31m \u001b[0mtrain_y\u001b[0m\u001b[0;34m,\u001b[0m \u001b[0mval_y\u001b[0m\u001b[0;34m,\u001b[0m \u001b[0mtest_y\u001b[0m \u001b[0;34m=\u001b[0m \u001b[0mcheck_output\u001b[0m\u001b[0;34m(\u001b[0m\u001b[0mdataset\u001b[0m\u001b[0;34m.\u001b[0m\u001b[0mget_y\u001b[0m\u001b[0;34m(\u001b[0m\u001b[0;34m)\u001b[0m\u001b[0;34m)\u001b[0m\u001b[0;34m\u001b[0m\u001b[0;34m\u001b[0m\u001b[0m\n\u001b[0m",
      "\u001b[0;32m~/lt2316-h20-aa/aa/data_loading.py\u001b[0m in \u001b[0;36mget_y\u001b[0;34m(self)\u001b[0m\n\u001b[1;32m    218\u001b[0m \u001b[0;34m\u001b[0m\u001b[0m\n\u001b[1;32m    219\u001b[0m         \u001b[0;31m#NEW\u001b[0m\u001b[0;34m\u001b[0m\u001b[0;34m\u001b[0m\u001b[0;34m\u001b[0m\u001b[0m\n\u001b[0;32m--> 220\u001b[0;31m         \u001b[0mtrain_labels_tensor\u001b[0m\u001b[0;34m=\u001b[0m\u001b[0mtorch\u001b[0m\u001b[0;34m.\u001b[0m\u001b[0mTensor\u001b[0m\u001b[0;34m(\u001b[0m\u001b[0mtorch\u001b[0m\u001b[0;34m.\u001b[0m\u001b[0mnn\u001b[0m\u001b[0;34m.\u001b[0m\u001b[0mfunctional\u001b[0m\u001b[0;34m.\u001b[0m\u001b[0mpad\u001b[0m\u001b[0;34m(\u001b[0m\u001b[0mself\u001b[0m\u001b[0;34m.\u001b[0m\u001b[0mtrain_labels\u001b[0m\u001b[0;34m,\u001b[0m \u001b[0mpad\u001b[0m\u001b[0;34m=\u001b[0m\u001b[0;34m(\u001b[0m\u001b[0;36m0\u001b[0m\u001b[0;34m,\u001b[0m \u001b[0mself\u001b[0m\u001b[0;34m.\u001b[0m\u001b[0mmax_sample_length\u001b[0m \u001b[0;34m-\u001b[0m \u001b[0mlen\u001b[0m\u001b[0;34m(\u001b[0m\u001b[0mself\u001b[0m\u001b[0;34m.\u001b[0m\u001b[0mtrain_labels\u001b[0m\u001b[0;34m)\u001b[0m\u001b[0;34m)\u001b[0m\u001b[0;34m,\u001b[0m \u001b[0mmode\u001b[0m\u001b[0;34m=\u001b[0m\u001b[0;34m'constant'\u001b[0m\u001b[0;34m,\u001b[0m \u001b[0mvalue\u001b[0m\u001b[0;34m=\u001b[0m\u001b[0;34m-\u001b[0m\u001b[0;36m1\u001b[0m\u001b[0;34m)\u001b[0m\u001b[0;34m)\u001b[0m\u001b[0;34m\u001b[0m\u001b[0;34m\u001b[0m\u001b[0m\n\u001b[0m\u001b[1;32m    221\u001b[0m         \u001b[0mval_labels_tensor\u001b[0m\u001b[0;34m=\u001b[0m\u001b[0mtorch\u001b[0m\u001b[0;34m.\u001b[0m\u001b[0mTensor\u001b[0m\u001b[0;34m(\u001b[0m\u001b[0mtorch\u001b[0m\u001b[0;34m.\u001b[0m\u001b[0mnn\u001b[0m\u001b[0;34m.\u001b[0m\u001b[0mfunctional\u001b[0m\u001b[0;34m.\u001b[0m\u001b[0mpad\u001b[0m\u001b[0;34m(\u001b[0m\u001b[0mself\u001b[0m\u001b[0;34m.\u001b[0m\u001b[0mval_labels\u001b[0m\u001b[0;34m,\u001b[0m \u001b[0mpad\u001b[0m\u001b[0;34m=\u001b[0m\u001b[0;34m(\u001b[0m\u001b[0;36m0\u001b[0m\u001b[0;34m,\u001b[0m \u001b[0mself\u001b[0m\u001b[0;34m.\u001b[0m\u001b[0mmax_sample_length\u001b[0m \u001b[0;34m-\u001b[0m \u001b[0mlen\u001b[0m\u001b[0;34m(\u001b[0m\u001b[0mself\u001b[0m\u001b[0;34m.\u001b[0m\u001b[0mval_labels\u001b[0m\u001b[0;34m)\u001b[0m\u001b[0;34m)\u001b[0m\u001b[0;34m,\u001b[0m \u001b[0mmode\u001b[0m\u001b[0;34m=\u001b[0m\u001b[0;34m'constant'\u001b[0m\u001b[0;34m,\u001b[0m \u001b[0mvalue\u001b[0m\u001b[0;34m=\u001b[0m\u001b[0;34m-\u001b[0m\u001b[0;36m1\u001b[0m\u001b[0;34m)\u001b[0m\u001b[0;34m)\u001b[0m\u001b[0;34m\u001b[0m\u001b[0;34m\u001b[0m\u001b[0m\n\u001b[1;32m    222\u001b[0m         \u001b[0mtest_labels_tensor\u001b[0m\u001b[0;34m=\u001b[0m\u001b[0mtorch\u001b[0m\u001b[0;34m.\u001b[0m\u001b[0mTensor\u001b[0m\u001b[0;34m(\u001b[0m\u001b[0mtorch\u001b[0m\u001b[0;34m.\u001b[0m\u001b[0mnn\u001b[0m\u001b[0;34m.\u001b[0m\u001b[0mfunctional\u001b[0m\u001b[0;34m.\u001b[0m\u001b[0mpad\u001b[0m\u001b[0;34m(\u001b[0m\u001b[0mself\u001b[0m\u001b[0;34m.\u001b[0m\u001b[0mtest_labels\u001b[0m\u001b[0;34m,\u001b[0m \u001b[0mpad\u001b[0m\u001b[0;34m=\u001b[0m\u001b[0;34m(\u001b[0m\u001b[0;36m0\u001b[0m\u001b[0;34m,\u001b[0m \u001b[0mself\u001b[0m\u001b[0;34m.\u001b[0m\u001b[0mmax_sample_length\u001b[0m \u001b[0;34m-\u001b[0m \u001b[0mlen\u001b[0m\u001b[0;34m(\u001b[0m\u001b[0mself\u001b[0m\u001b[0;34m.\u001b[0m\u001b[0mtest_labels\u001b[0m\u001b[0;34m)\u001b[0m\u001b[0;34m)\u001b[0m\u001b[0;34m,\u001b[0m \u001b[0mmode\u001b[0m\u001b[0;34m=\u001b[0m\u001b[0;34m'constant'\u001b[0m\u001b[0;34m,\u001b[0m \u001b[0mvalue\u001b[0m\u001b[0;34m=\u001b[0m\u001b[0;34m-\u001b[0m\u001b[0;36m1\u001b[0m\u001b[0;34m)\u001b[0m\u001b[0;34m)\u001b[0m\u001b[0;34m\u001b[0m\u001b[0;34m\u001b[0m\u001b[0m\n",
      "\u001b[0;31mAttributeError\u001b[0m: 'list' object has no attribute 'numel'"
     ]
    }
   ],
   "source": [
    "train_y, val_y, test_y = check_output(dataset.get_y())"
   ]
  },
  {
   "cell_type": "code",
   "execution_count": 24,
   "metadata": {},
   "outputs": [
    {
     "ename": "AttributeError",
     "evalue": "'list' object has no attribute 'dim'",
     "output_type": "error",
     "traceback": [
      "\u001b[0;31m---------------------------------------------------------------------------\u001b[0m",
      "\u001b[0;31mAttributeError\u001b[0m                            Traceback (most recent call last)",
      "\u001b[0;32m<ipython-input-24-22b0c9375614>\u001b[0m in \u001b[0;36m<module>\u001b[0;34m\u001b[0m\n\u001b[0;32m----> 1\u001b[0;31m \u001b[0mtrain_labels_tensor\u001b[0m\u001b[0;34m=\u001b[0m\u001b[0mtorch\u001b[0m\u001b[0;34m.\u001b[0m\u001b[0mTensor\u001b[0m\u001b[0;34m(\u001b[0m\u001b[0mtorch\u001b[0m\u001b[0;34m.\u001b[0m\u001b[0mnn\u001b[0m\u001b[0;34m.\u001b[0m\u001b[0mfunctional\u001b[0m\u001b[0;34m.\u001b[0m\u001b[0mpad\u001b[0m\u001b[0;34m(\u001b[0m\u001b[0mdataset\u001b[0m\u001b[0;34m.\u001b[0m\u001b[0mtrain_labels\u001b[0m\u001b[0;34m,\u001b[0m \u001b[0mpad\u001b[0m\u001b[0;34m=\u001b[0m\u001b[0;34m(\u001b[0m\u001b[0;36m0\u001b[0m\u001b[0;34m,\u001b[0m \u001b[0mdataset\u001b[0m\u001b[0;34m.\u001b[0m\u001b[0mmax_sample_length\u001b[0m \u001b[0;34m-\u001b[0m \u001b[0mlen\u001b[0m\u001b[0;34m(\u001b[0m\u001b[0mdataset\u001b[0m\u001b[0;34m.\u001b[0m\u001b[0mtrain_labels\u001b[0m\u001b[0;34m)\u001b[0m\u001b[0;34m)\u001b[0m\u001b[0;34m,\u001b[0m \u001b[0mmode\u001b[0m\u001b[0;34m=\u001b[0m\u001b[0;34m'constant'\u001b[0m\u001b[0;34m,\u001b[0m \u001b[0mvalue\u001b[0m\u001b[0;34m=\u001b[0m\u001b[0;34m-\u001b[0m\u001b[0;36m1\u001b[0m\u001b[0;34m)\u001b[0m\u001b[0;34m)\u001b[0m\u001b[0;34m\u001b[0m\u001b[0;34m\u001b[0m\u001b[0m\n\u001b[0m",
      "\u001b[0;32m/usr/local/lib64/python3.7/site-packages/torch/nn/functional.py\u001b[0m in \u001b[0;36mpad\u001b[0;34m(input, pad, mode, value)\u001b[0m\n\u001b[1;32m   2732\u001b[0m     \"\"\"\n\u001b[1;32m   2733\u001b[0m     \u001b[0;32massert\u001b[0m \u001b[0mlen\u001b[0m\u001b[0;34m(\u001b[0m\u001b[0mpad\u001b[0m\u001b[0;34m)\u001b[0m \u001b[0;34m%\u001b[0m \u001b[0;36m2\u001b[0m \u001b[0;34m==\u001b[0m \u001b[0;36m0\u001b[0m\u001b[0;34m,\u001b[0m \u001b[0;34m'Padding length must be divisible by 2'\u001b[0m\u001b[0;34m\u001b[0m\u001b[0;34m\u001b[0m\u001b[0m\n\u001b[0;32m-> 2734\u001b[0;31m     \u001b[0;32massert\u001b[0m \u001b[0mlen\u001b[0m\u001b[0;34m(\u001b[0m\u001b[0mpad\u001b[0m\u001b[0;34m)\u001b[0m \u001b[0;34m//\u001b[0m \u001b[0;36m2\u001b[0m \u001b[0;34m<=\u001b[0m \u001b[0minput\u001b[0m\u001b[0;34m.\u001b[0m\u001b[0mdim\u001b[0m\u001b[0;34m(\u001b[0m\u001b[0;34m)\u001b[0m\u001b[0;34m,\u001b[0m \u001b[0;34m'Padding length too large'\u001b[0m\u001b[0;34m\u001b[0m\u001b[0;34m\u001b[0m\u001b[0m\n\u001b[0m\u001b[1;32m   2735\u001b[0m     \u001b[0;32mif\u001b[0m \u001b[0mmode\u001b[0m \u001b[0;34m==\u001b[0m \u001b[0;34m'constant'\u001b[0m\u001b[0;34m:\u001b[0m\u001b[0;34m\u001b[0m\u001b[0;34m\u001b[0m\u001b[0m\n\u001b[1;32m   2736\u001b[0m         \u001b[0mret\u001b[0m \u001b[0;34m=\u001b[0m \u001b[0m_VF\u001b[0m\u001b[0;34m.\u001b[0m\u001b[0mconstant_pad_nd\u001b[0m\u001b[0;34m(\u001b[0m\u001b[0minput\u001b[0m\u001b[0;34m,\u001b[0m \u001b[0mpad\u001b[0m\u001b[0;34m,\u001b[0m \u001b[0mvalue\u001b[0m\u001b[0;34m)\u001b[0m\u001b[0;34m\u001b[0m\u001b[0;34m\u001b[0m\u001b[0m\n",
      "\u001b[0;31mAttributeError\u001b[0m: 'list' object has no attribute 'dim'"
     ]
    }
   ],
   "source": [
    "train_labels_tensor=torch.Tensor(torch.nn.functional.pad(dataset.train_labels, pad=(0, dataset.max_sample_length - len(dataset.train_labels)), mode='constant', value=-1))"
   ]
  },
  {
   "cell_type": "code",
   "execution_count": 18,
   "metadata": {},
   "outputs": [
    {
     "data": {
      "text/plain": [
       "33229"
      ]
     },
     "execution_count": 18,
     "metadata": {},
     "output_type": "execute_result"
    }
   ],
   "source": [
    "len(dataset.val_labels)"
   ]
  },
  {
   "cell_type": "markdown",
   "metadata": {},
   "source": [
    "## Extracting Features"
   ]
  },
  {
   "cell_type": "code",
   "execution_count": 4,
   "metadata": {},
   "outputs": [
    {
     "ename": "TypeError",
     "evalue": "'NoneType' object is not iterable",
     "output_type": "error",
     "traceback": [
      "\u001b[0;31m---------------------------------------------------------------------------\u001b[0m",
      "\u001b[0;31mTypeError\u001b[0m                                 Traceback (most recent call last)",
      "\u001b[0;32m<ipython-input-4-c51012ef1f5c>\u001b[0m in \u001b[0;36m<module>\u001b[0;34m\u001b[0m\n\u001b[1;32m      1\u001b[0m train_X, val_X, test_X = check_output(extract_features(\n\u001b[1;32m      2\u001b[0m                                                         \u001b[0mdata\u001b[0m\u001b[0;34m=\u001b[0m\u001b[0mdataset\u001b[0m\u001b[0;34m.\u001b[0m\u001b[0mdata_df\u001b[0m\u001b[0;34m,\u001b[0m\u001b[0;34m\u001b[0m\u001b[0;34m\u001b[0m\u001b[0m\n\u001b[0;32m----> 3\u001b[0;31m                                                         \u001b[0mmax_sample_length\u001b[0m\u001b[0;34m=\u001b[0m\u001b[0mdataset\u001b[0m\u001b[0;34m.\u001b[0m\u001b[0mmax_sample_length\u001b[0m\u001b[0;34m,\u001b[0m\u001b[0;34m\u001b[0m\u001b[0;34m\u001b[0m\u001b[0m\n\u001b[0m\u001b[1;32m      4\u001b[0m                                                         \u001b[0;31m#Add any addtional arguments here\u001b[0m\u001b[0;34m\u001b[0m\u001b[0;34m\u001b[0m\u001b[0;34m\u001b[0m\u001b[0m\n\u001b[1;32m      5\u001b[0m                                                        ))\n",
      "\u001b[0;32m~/lt2316-h20-aa/aa/utils.py\u001b[0m in \u001b[0;36mcheck_output\u001b[0;34m(items_to_check)\u001b[0m\n\u001b[1;32m     16\u001b[0m \u001b[0;32mdef\u001b[0m \u001b[0mcheck_output\u001b[0m\u001b[0;34m(\u001b[0m\u001b[0mitems_to_check\u001b[0m\u001b[0;34m)\u001b[0m\u001b[0;34m:\u001b[0m\u001b[0;34m\u001b[0m\u001b[0;34m\u001b[0m\u001b[0m\n\u001b[1;32m     17\u001b[0m \u001b[0;34m\u001b[0m\u001b[0m\n\u001b[0;32m---> 18\u001b[0;31m     \u001b[0;32mfor\u001b[0m \u001b[0mitem\u001b[0m \u001b[0;32min\u001b[0m \u001b[0mitems_to_check\u001b[0m\u001b[0;34m:\u001b[0m\u001b[0;34m\u001b[0m\u001b[0;34m\u001b[0m\u001b[0m\n\u001b[0m\u001b[1;32m     19\u001b[0m         \u001b[0mensure_tensor\u001b[0m\u001b[0;34m(\u001b[0m\u001b[0mitem\u001b[0m\u001b[0;34m)\u001b[0m\u001b[0;34m\u001b[0m\u001b[0;34m\u001b[0m\u001b[0m\n\u001b[1;32m     20\u001b[0m         \u001b[0mensure_gpu\u001b[0m\u001b[0;34m(\u001b[0m\u001b[0mitem\u001b[0m\u001b[0;34m)\u001b[0m\u001b[0;34m\u001b[0m\u001b[0;34m\u001b[0m\u001b[0m\n",
      "\u001b[0;31mTypeError\u001b[0m: 'NoneType' object is not iterable"
     ]
    }
   ],
   "source": [
    "train_X, val_X, test_X = check_output(extract_features(\n",
    "                                                        data=dataset.data_df,\n",
    "                                                        max_sample_length=dataset.max_sample_length,\n",
    "                                                        #Add any addtional arguments here\n",
    "                                                       ))"
   ]
  },
  {
   "cell_type": "markdown",
   "metadata": {},
   "source": [
    "## Bonus Part: Explore Some more"
   ]
  },
  {
   "cell_type": "code",
   "execution_count": null,
   "metadata": {},
   "outputs": [],
   "source": [
    "#uncomment the code below if you want to do bonus part"
   ]
  },
  {
   "cell_type": "code",
   "execution_count": 25,
   "metadata": {},
   "outputs": [
    {
     "name": "stdout",
     "output_type": "stream",
     "text": [
      "Ner_count_train [1972]\n",
      "Ner_count_val [712]\n",
      "Ner_count_test [141]\n"
     ]
    },
    {
     "data": {
      "image/png": "[encoded data removed]",
      "text/plain": [
       "<Figure size 432x288 with 1 Axes>"
      ]
     },
     "metadata": {
      "needs_background": "light"
     },
     "output_type": "display_data"
    }
   ],
   "source": [
    "dataset.plot_ner_per_sample_distribution()"
   ]
  },
  {
   "cell_type": "code",
   "execution_count": 26,
   "metadata": {},
   "outputs": [
    {
     "name": "stdout",
     "output_type": "stream",
     "text": [
      "length_train [19, 36, 23, 23, 16, 32, 19, 14, 17, 1, 10, 24, 33, 28, 27, 39, 18, 25, 19, 47, 26, 41, 12, 8, 20, 46, 27, 23, 28, 36, 21, 9, 19, 13, 16, 37, 10, 36, 9, 8, 13, 16, 26, 14, 10, 24, 17, 24, 20, 11, 16, 14, 25, 17, 30, 18, 23, 19, 10, 20, 33, 25, 7, 15, 13, 25, 38, 22, 21, 1, 15, 28, 34, 6, 16, 30, 20, 34, 7, 32, 19, 20, 19, 21, 15, 17, 1, 3, 40, 1, 9, 7, 12, 13, 16, 28, 13, 31, 16, 9, 17, 29, 5, 9, 39, 12, 30, 16, 51, 15, 42, 47, 24, 28, 29, 25, 41, 23, 27, 47, 8, 11, 13, 21, 11, 33, 18, 50, 31, 10, 10, 33, 22, 10, 15, 23, 26, 42, 14, 13, 21, 24, 15, 13, 33, 26, 42, 11, 54, 21, 43, 18, 28, 14, 38, 11, 30, 25, 24, 13, 33, 17, 19, 12, 11, 24, 7, 16, 19, 10, 5, 26, 14, 24, 31, 9, 34, 43, 11, 16, 25, 16, 6, 22, 18, 13, 14, 21, 33, 29, 23, 24, 17, 30, 20, 4, 39, 23, 28, 13, 25, 19, 6, 27, 32, 26, 25, 28, 23, 16, 23, 12, 24, 14, 12, 26, 9, 15, 41, 36, 11, 13, 13, 8, 19, 12, 32, 12, 18, 20, 17, 33, 22, 8, 17, 18, 13, 19, 24, 14, 22, 27, 15, 17, 10, 28, 24, 10, 25, 45, 4, 13, 34, 6, 31, 20, 16, 23, 1, 16, 35, 48, 26, 34, 26, 38, 6, 8, 16, 29, 38, 19, 27, 27, 15, 14, 35, 32, 14, 7, 10, 23, 24, 18, 25, 24, 82, 24, 29, 17, 15, 7, 16, 6, 26, 16, 17, 20, 23, 15, 13, 12, 37, 23, 27, 15, 21, 15, 16, 4, 26, 16, 13, 24, 16, 34, 14, 15, 13, 40, 16, 1, 15, 15, 12, 9, 5, 24, 12, 15, 10, 31, 16, 20, 34, 26, 1, 28, 15, 1, 18, 2, 19, 9, 20, 25, 4, 23, 25, 25, 24, 19, 20, 16, 19, 5, 37, 28, 23, 31, 8, 21, 14, 22, 15, 27, 24, 13, 14, 20, 13, 23, 30, 6, 18, 24, 21, 25, 76, 22, 9, 27, 9, 20, 37, 22, 19, 11, 17, 25, 12, 31, 17, 16, 30, 38, 18, 20, 21, 23, 20, 26, 9, 39, 16, 44, 18, 28, 11, 21, 28, 40, 26, 18, 19, 27, 25, 13, 6, 11, 1, 25, 40, 21, 9, 29, 14, 30, 17, 23, 26, 19, 17, 17, 28, 23, 6, 17, 30, 19, 9, 22, 13, 23, 24, 19, 16, 18, 5, 5, 3, 11, 18, 21, 15, 3, 2, 3, 3, 2, 1, 2, 3, 2, 1, 21, 19, 25, 16, 14, 20, 23, 11, 17, 22, 10, 11, 16, 13, 20, 18, 16, 10, 12, 26, 23, 10, 41, 20, 20, 25, 15, 11, 36, 11, 40, 20, 22, 7, 23, 17, 9, 19, 6, 13, 8, 26, 22, 20, 23, 13, 28, 25, 22, 16, 17, 13, 19, 25, 12, 8, 25, 14, 8, 12, 8, 16, 10, 32, 17, 21, 11, 20, 19, 19, 15, 25, 14, 5, 4, 4, 11, 9, 3, 18, 28, 17, 18, 10, 14, 16, 48, 58, 15, 46, 16, 20, 9, 8, 10, 26, 13, 12, 18, 20, 19, 16, 24, 13, 15, 31, 11, 15, 11, 10, 11, 10, 12, 6, 18, 27, 39, 16, 26, 13, 22, 15, 12, 28, 18, 39, 26, 22, 30, 20, 10, 14, 15, 6, 6, 28, 21, 31, 13, 19, 47, 25, 20, 11, 24, 14, 23, 16, 27, 37, 31, 28, 9, 15, 12, 17, 36, 47, 15, 6, 7, 46, 25, 11, 26, 25, 10, 17, 10, 20, 4, 27, 20, 12, 18, 28, 17, 32, 13, 18, 12, 13, 22, 19, 19, 7, 27, 10, 13, 11, 27, 23, 11, 14, 20, 39, 19, 8, 7, 15, 3, 7, 18, 26, 32, 21, 32, 16, 16, 41, 16, 22, 10, 15, 12, 17, 29, 26, 28, 28, 25, 37, 14, 10, 13, 33, 12, 19, 42, 21, 11, 35, 30, 33, 14, 17, 19, 22, 18, 21, 20, 30, 10, 11, 3, 4, 20, 17, 19, 18, 29, 30, 24, 27, 16, 21, 11, 17, 40, 29, 14, 35, 27, 37, 18, 7, 15, 31, 16, 6, 15, 26, 7, 30, 19, 21, 15, 41, 23, 13, 31, 35, 12, 17, 15, 23, 28, 20, 16, 27, 30, 17, 36, 56, 29, 34, 23, 55, 32, 15, 21, 20, 24, 3, 32, 21, 32, 24, 24, 29, 3, 11, 14, 25, 24, 14, 2, 13, 22, 27, 23, 15, 22, 16, 22, 9, 13, 30, 15, 23, 22, 29, 12, 14, 13, 28, 31, 42, 37, 14, 29, 20, 34, 29, 16, 6, 27, 24, 19, 28, 23, 26, 5, 30, 15, 13, 26, 28, 12, 23, 9, 23, 30, 16, 14, 36, 14, 4, 11, 17, 18, 15, 22, 16, 7, 21, 23, 24, 21, 22, 16, 22, 38, 12, 25, 7, 11, 32, 25, 13, 40, 28, 42, 60, 28, 34, 33, 34, 12, 14, 16, 16, 19, 45, 4, 5, 47, 6, 9, 12, 12, 17, 18, 15, 15, 14, 28, 11, 41, 15, 29, 27, 23, 16, 32, 5, 11, 21, 15, 24, 21, 18, 12, 16, 8, 12, 15, 14, 11, 10, 17, 15, 22, 24, 29, 1, 8, 10, 1, 1, 20, 31, 28, 1, 19, 26, 15, 16, 8, 22, 24, 3, 11, 34, 7, 12, 22, 23, 4, 17, 5, 13, 21, 18, 16, 8, 18, 4, 18, 36, 5, 29, 20, 22, 24, 14, 23, 31, 22, 12, 20, 33, 16, 23, 15, 23, 60, 10, 19, 23, 20, 13, 8, 20, 11, 13, 21, 41, 37, 5, 32, 43, 11, 27, 17, 14, 25, 21, 17, 7, 14, 27, 43, 27, 14, 21, 27, 41, 15, 32, 51, 76, 47, 14, 2, 10, 3, 4, 3, 1, 9, 4, 1, 3, 1, 3, 28, 11, 20, 7, 6, 12, 5, 8, 9, 5, 8, 4, 5, 15, 12, 8, 18, 9, 12, 11, 23, 16, 1, 28, 16, 8, 15, 14, 28, 34, 13, 46, 8, 12, 32, 24, 21, 22, 31, 16, 11, 8, 17, 16, 16, 15, 17, 25, 17, 10, 12, 15, 11, 17, 11, 22, 15, 25, 8, 22, 9, 22, 30, 61, 32, 15, 21, 16, 24, 23, 16, 31, 19, 15, 15, 58, 23, 26, 30, 11, 33, 23, 38, 15, 19, 15, 9, 17, 16, 5, 30, 17, 28, 8, 31, 16, 17, 10, 31, 17, 52, 47, 21, 18, 30, 25, 28, 27, 22, 30, 13, 33, 43, 33, 10, 17, 39, 15, 19, 21, 18, 43, 44, 45, 24, 1, 13, 28, 76, 16, 11, 1, 25, 34, 26, 18, 14, 32, 17, 24, 27, 5, 9, 20, 25, 20, 22, 27, 22, 23, 41, 10, 25, 18, 24, 7, 22, 26, 12, 16, 24, 22, 34, 17, 1, 17, 5, 5, 8, 5, 5, 5, 5, 5, 5, 5, 7, 5, 5, 9, 12, 39, 5, 6, 3, 5, 3, 5, 5, 5, 22, 6, 5, 20, 25, 22, 25, 2, 14, 16, 21, 30, 16, 17, 23, 16, 11, 24, 15, 15, 14, 10, 20, 11, 14, 17, 40, 28, 18, 16, 5, 7, 18, 16, 34, 27, 45, 28, 30, 23, 9, 6, 14, 34, 16, 12, 16, 11, 15, 17, 17, 11, 6, 9, 3, 29, 21, 17, 36, 17, 27, 14, 22, 36, 27, 25, 35, 24, 25, 14, 52, 16, 14, 37, 19, 28, 22, 11, 60, 21, 41, 16, 27, 33, 20, 34, 5, 14, 47, 18, 13, 15, 14, 12, 26, 17, 24, 15, 17, 14, 32, 13, 3, 8, 17, 52, 8, 8, 30, 26, 21, 30, 13, 37, 10, 26, 21, 21, 41, 11, 18, 10, 20, 25, 25, 15, 33, 22, 18, 16, 28, 26, 35, 22, 23, 23, 9, 42, 44, 61, 17, 12, 16, 23, 8, 25, 17, 20, 15, 13, 19, 9, 8, 16, 8, 21, 20, 37, 8, 22, 24, 26, 11, 12, 9, 30, 15, 29, 13, 2, 16, 29, 23, 8, 12, 10, 14, 14, 7, 39, 13, 11, 29, 14, 18, 19, 29, 24, 17, 21, 21, 14, 11, 11, 17, 24, 11, 25, 17, 16, 18, 33, 70, 13, 18, 22, 12, 24, 9, 7, 20, 7, 11, 22, 21, 25, 42, 10, 12, 18, 17, 27, 23, 20, 12, 13, 14, 16, 12, 45, 24, 19, 21, 19, 31, 16, 46, 25, 15, 43, 32, 5, 25, 24, 12, 33, 39, 33, 5, 34, 10, 33, 12, 38, 30, 42, 13, 12, 34, 27, 11, 30, 14, 13, 30, 16, 26, 13, 11, 29, 26, 44, 24, 20, 38, 30, 14, 7, 1, 13, 26, 20, 48, 23, 2, 8, 13, 27, 8, 11, 15, 15, 29, 35, 15, 10, 27, 19, 17, 50, 1, 13, 10, 14, 11, 9, 18, 43, 4, 34, 13, 8, 19, 14, 31, 20, 29, 13, 27, 32, 46, 16, 30, 26, 25, 32, 11, 33, 16, 9, 25, 28, 9, 23, 15, 16, 29, 24, 23, 21, 19, 24, 34, 33, 11, 12, 21, 15, 5, 17, 19, 10, 9, 9, 23, 8, 15, 16, 8, 8, 9, 8, 9, 16, 13, 13, 7, 7, 24, 15, 8, 8, 24, 7, 7, 6, 19, 30, 13, 31, 9, 9, 12, 11, 40, 21, 15, 19, 17, 18, 25, 44, 12, 13, 11, 37, 39, 14, 23, 4, 3, 11, 11, 1, 1, 8, 1, 14, 1, 9, 11, 2, 1, 1, 42, 23, 22, 7, 27, 25, 24, 14, 15, 15, 16, 17, 14, 1, 12, 1, 12, 29, 19, 53, 24, 52, 14, 32, 33, 41, 27, 27, 41, 13, 9, 5, 23, 8, 3, 4, 6, 2, 12, 13, 21, 21, 13, 17, 21, 15, 28, 12, 8, 15, 32, 22, 26, 14, 17, 29, 17, 7, 7, 8, 20, 22, 19, 17, 30, 23, 22, 17, 21, 18, 10, 16, 16, 30, 15, 24, 13, 15, 9, 20, 10, 21, 28, 11, 14, 16, 29, 19, 19, 18, 12, 52, 14, 26, 45, 9, 17, 14, 27, 13, 28, 24, 11, 17, 18, 43, 36, 15, 20, 16, 24, 28, 33, 21, 22, 36, 26, 26, 15, 15, 36, 16, 20, 23, 14, 11, 7, 12, 30, 19, 23, 1, 19, 24, 19, 28, 23, 12, 31, 48, 6, 20, 36, 15, 16, 34, 21, 40, 22, 20, 36, 17, 7, 33, 19, 31, 12, 28, 21, 15, 9, 26, 14, 15, 23, 33, 27, 17, 59, 8, 14, 21, 24, 39, 8, 18, 25, 25, 4, 9, 46, 37, 36, 19, 45, 12, 29, 29, 21, 13, 32, 35, 34, 19, 19, 45, 53, 8, 40, 16, 24, 6, 10, 8, 4, 8, 12, 15, 8, 19, 36, 23, 10, 12, 10, 28, 22, 39, 18, 21, 33, 27, 23, 27, 16, 4, 10, 15, 22, 9, 18, 20, 8, 16, 16, 30, 44, 40, 1, 20, 12, 10, 13, 66, 24, 12, 12, 21, 18, 36, 8, 16, 21, 32, 1, 28, 10, 1, 13, 30, 1, 2, 23, 30, 29, 16, 10, 17, 21, 16, 8, 29, 24, 24, 24, 7, 15, 43, 19, 11, 24, 27, 20, 59, 17, 64, 16, 23, 29, 3, 7, 10, 29, 40, 16, 11, 17, 22, 8, 17, 22, 1, 9, 36, 7, 13, 30, 13, 1, 15, 19, 15, 23, 15, 15, 4, 12, 17, 12, 2, 23, 15, 7, 2, 12, 23, 17, 9, 26, 16, 40, 21, 1, 40, 9, 5, 2, 5, 3, 2, 33, 28, 8, 21, 10, 13, 16, 4, 26, 31, 34, 14, 26, 62, 8, 21, 37, 74, 29, 8, 18, 27, 34, 14, 19, 19, 24, 33, 16, 16, 12, 25, 40, 2, 5, 6, 1, 5, 1, 19, 18, 12, 41, 40, 14, 20, 22, 23, 19, 8, 33, 17, 1, 31, 41, 17, 6, 14, 18, 7, 24, 15, 18, 18, 17, 18, 13, 31, 17, 28, 26, 28, 15, 57, 14, 15, 14, 19, 3, 3, 4, 10, 19, 15, 3, 10, 9, 1, 18, 7, 16, 14, 14, 7, 7, 21, 29, 27, 23, 13, 23, 26, 19, 21, 8, 16, 7, 14, 14, 3, 10, 15, 17, 12, 16, 43, 17, 24, 23, 21, 36, 16, 43, 20, 16, 17, 16, 11, 25, 21, 21, 10, 25, 16, 18, 1, 22, 11, 17, 9, 18, 34, 11, 48, 6, 18, 8, 47, 27, 14, 12, 11, 13, 16, 11, 18, 19, 15, 24, 13, 7, 21, 4, 22, 15, 18, 17, 38, 25, 25, 7, 6, 3, 40, 41, 15, 22, 29, 14, 2, 11, 55, 2, 16, 23, 24, 2, 13, 7, 11, 15, 14, 27, 18, 25, 41, 17, 46, 33, 25, 43, 32, 25, 33, 17, 58, 43, 14, 24, 19, 76, 68, 14, 40, 21, 7, 20, 24, 6, 38, 23, 23, 27, 34, 19, 42, 7, 12, 8, 27, 38, 18, 21, 32, 8, 8, 29, 8, 9, 41, 27, 24, 19, 14, 23, 18, 9, 42, 1, 14, 1, 18, 16, 1, 23, 14, 10, 16, 14, 14, 20, 24, 10, 25, 30, 17, 52, 19, 27, 19, 24, 12, 14, 10, 11, 16, 13, 25, 17, 12, 10, 15, 32, 38, 11, 27, 27, 23, 8, 17, 52, 18, 11, 21, 18, 71, 27, 10, 12, 16, 21, 12, 33, 22, 5, 24, 12, 29, 18, 16, 35, 34, 12, 31, 9, 24, 19, 11, 1, 25, 39, 13, 7, 12, 34, 10, 15, 23, 20, 10, 20, 19, 11, 13, 12, 39, 18, 9, 14, 10, 44, 20, 18, 11, 13, 6, 21, 31, 23, 6, 2, 5, 17, 29, 17, 10, 19, 14, 17, 12, 27, 33, 8, 4, 3, 24, 15, 8, 30, 8, 27, 9, 32, 19, 26, 26, 22, 21, 21, 29, 14, 11, 21, 44, 15, 12, 10, 12, 8, 15, 7, 19, 15, 18, 35, 21, 8, 22, 17, 11, 17, 10, 7, 1, 3, 1, 6, 4, 4, 1, 10, 20, 16, 34, 28, 54, 24, 57, 22, 35, 1, 1, 1, 1, 1, 2, 1, 1, 5, 1, 1, 1, 1, 1, 1, 1, 1, 1, 1, 4, 2, 43, 15, 2, 1, 2, 1, 1, 2, 1, 1, 1, 1, 1, 1, 1, 2, 1, 1, 4, 2, 2, 3, 2, 2, 1, 2, 2, 1, 1, 1, 1, 1, 2, 1, 1, 1, 2, 2, 1, 4, 81, 22, 27, 53, 9, 26, 17, 20, 15, 37, 22, 13, 14, 22, 7, 24, 13, 12, 33, 20, 26, 16, 22, 18, 61, 22, 9, 15, 18, 10, 36, 15, 1, 11, 16, 24, 8, 13, 40, 21, 29, 8, 1, 10, 10, 16, 21, 10, 42, 17, 13, 10, 17, 8, 24, 23, 18, 4, 27, 2, 14, 35, 21, 16, 29, 17, 22, 26, 24, 35, 34, 27, 13, 22, 12, 13, 21, 29, 19, 22, 29, 47, 14, 13, 22, 15, 19, 25, 20, 23, 27, 24, 19, 13, 14, 27, 29, 48, 15, 15, 13, 6, 27, 21, 23, 26, 28, 28, 41, 47, 25, 35, 29, 45, 20, 25, 32, 16, 21, 20, 10, 23, 9, 2, 9, 7, 3, 2, 1, 2, 1, 13, 4, 2, 1, 2, 1, 2, 5, 3, 11, 11, 3, 1, 2, 14, 21, 45, 1, 26, 1, 2, 13, 19, 6, 3, 1, 7, 17, 1, 2, 7, 2, 14, 2, 1, 2, 12, 1, 2, 10, 10, 9, 3, 18, 12, 5, 9, 4, 6, 15, 6, 36, 32, 3, 24, 13, 17, 12, 18, 17, 12, 27, 27, 13, 36, 21, 55, 25, 17, 5, 15, 25, 32, 26, 8, 40, 26, 15, 28, 21, 15, 15, 26, 15, 22, 33, 27, 11, 21, 9, 14, 28, 16, 11, 18, 14, 11, 16, 25, 17, 21, 11, 20, 19, 15, 29, 22, 27, 8, 24, 23, 24, 26, 17, 13, 3, 15, 8, 20, 15, 8, 51, 18, 8, 22, 15, 17, 1, 14, 8, 9, 11, 9, 9, 10, 10, 15, 29, 12, 27, 30, 38, 10, 15, 22, 13, 50, 13, 22, 26, 24, 25, 16, 16, 10, 24, 18, 33, 10, 11, 26, 21, 19, 12, 1, 1, 7, 1, 1, 21, 25, 14, 17, 11, 17, 27, 9, 16, 21, 14, 14, 28, 12, 12, 29, 38, 12, 11, 27, 13, 31, 7, 10, 9, 29, 15, 29, 10, 12, 15, 19, 9, 25, 26, 27, 22, 15, 11, 16, 12, 19, 17, 21, 45, 1, 35, 1, 23, 33, 15, 15, 46, 1, 19, 28, 22, 10, 13, 23, 10, 27, 9, 19, 34, 24, 26, 16, 12, 15, 21, 12, 1, 41, 1, 19, 1, 6, 14, 50, 23, 19, 20, 29, 32, 44, 44, 32, 16, 18, 24, 7, 11, 6, 13, 17, 9, 15, 23, 16, 7, 38, 30, 16, 25, 17, 24, 24, 35, 34, 27, 1, 1, 13, 17, 1, 17, 1, 23, 35, 25, 16, 7, 25, 8, 21, 9, 12, 33, 9, 13, 11, 30, 11, 12, 21, 22, 17, 19, 10, 15, 9, 8, 13, 8, 19, 8, 8, 9, 8, 16, 13, 13, 7, 15, 33, 22, 25, 31, 25, 11, 12, 21, 17, 19, 20, 28, 14, 16, 29, 24, 20, 30, 5, 6, 21, 24, 11, 14, 12, 19, 39, 17, 30, 15, 10, 17, 19, 5, 14, 23, 15, 15, 18, 27, 25, 26, 23, 48, 26, 18, 16, 21, 13, 29, 20, 15, 3, 8, 12, 24, 16, 3, 21, 36, 12, 7, 11, 23, 8, 9, 11, 11, 12, 36, 49, 12, 17, 16, 32, 16, 32, 15, 14, 18, 20, 22, 13, 31, 9, 13, 13, 25, 25, 12, 22, 19, 16, 21, 18, 1, 60, 34, 15, 1, 35, 27, 1, 57, 22, 11, 31, 38, 22, 15, 11, 26, 25, 23, 10, 54, 7, 14, 41, 11, 16, 14, 19, 26, 12, 18, 19, 23, 7, 17, 8, 13, 9, 21, 15, 8, 64, 41, 20, 13, 30, 26, 18, 24, 26, 32, 31, 32, 17, 24, 13, 18, 14, 14, 13, 29, 7, 12, 22, 26, 16, 24, 28, 25, 11, 20, 56, 20, 23, 13, 34, 18, 17, 20, 22, 17, 4, 10, 19, 15, 5, 1, 31, 9, 8, 28, 6, 1, 1, 3, 1, 115, 12, 13, 17, 9, 23, 33, 8, 33, 13, 24, 11, 17, 16, 14, 18, 13, 34, 28, 21, 6, 13, 27, 12, 15, 26, 28, 17, 17, 50, 22, 70, 16, 21, 37, 27, 17, 11, 25, 15, 16, 23, 22, 45, 15, 17, 10, 22, 20, 19, 16, 32, 19, 36, 14, 10, 15, 28, 9, 22, 17, 33, 26, 17, 44, 12, 24, 10, 22, 7, 10, 30, 27, 23, 9, 26, 8, 20, 32, 19, 1, 26, 32, 12, 11, 19, 28, 10, 23, 15, 15, 17, 18, 21, 7, 28, 13, 27, 18, 48, 65, 43, 22, 20, 13, 12, 9, 28, 1, 2, 2, 1, 1, 2, 2, 3, 1, 1, 1, 1, 1, 3, 1, 1, 1, 2, 2, 1, 1, 1, 2, 1, 1, 1, 23, 16, 23, 21, 9, 21, 30, 13, 9, 39, 19, 16, 35, 9, 14, 22, 23, 28, 28, 15, 1, 64, 21, 10, 18, 18, 28, 9, 15, 10, 23, 27, 12, 14, 38, 10, 15, 12, 19, 28, 18, 29, 20, 30, 29, 14, 31, 22, 10, 22, 9, 42, 13, 13, 22, 17, 11, 20, 13, 12, 22, 18, 17, 15, 11, 36, 17, 19, 9, 17, 23, 12, 11, 8, 14, 1, 20, 12, 20, 23, 15, 46, 22, 39, 18, 28, 55, 34, 43, 9, 22, 11, 13, 23, 22, 20, 10, 23, 1, 11, 17, 13, 36, 28, 24, 13, 13, 18, 21, 23, 45, 11, 11, 30, 12, 31, 14, 16, 14, 12, 28, 12, 25, 27, 27, 21, 10, 32, 20, 13, 12, 14, 13, 9, 21, 26, 13, 27, 21, 31, 35, 12, 22, 24, 9, 9, 13, 27, 9, 8, 17, 7, 35, 15, 3, 1, 2, 2, 2, 1, 8, 3, 18, 21, 32, 19, 20, 19, 12, 9, 15, 16, 33, 30, 39, 10, 31, 30, 43, 69, 16, 30, 25, 21, 34, 5, 4, 15, 25, 1, 28, 1, 31, 11, 10, 1, 19, 24, 1, 27, 1, 23, 21, 32, 1, 10, 24, 1, 13, 16, 29, 13, 8, 24, 12, 17, 20, 21, 8, 9, 13, 11, 11, 11, 14, 8, 16, 8, 4, 12, 20, 11, 11, 16, 12, 17, 8, 4, 4, 23, 13, 4, 24, 8, 18, 16, 20, 2, 24, 17, 4, 16, 21, 14, 20, 18, 30, 28, 27, 11, 19, 16, 24, 25, 16, 14, 22, 1, 17, 47, 20, 13, 30, 18, 14, 17, 6, 53, 22, 17, 37, 22, 13, 36, 17, 20, 10, 30, 32, 18, 14, 30, 29, 21, 23, 14, 18, 7, 36, 5, 45, 18, 13, 20, 18, 27, 15, 28, 19, 24, 22, 11, 43, 36, 22, 12, 32, 15, 18, 26, 19, 16, 35, 17, 17, 16, 20, 29, 24, 28, 13, 24, 25, 7, 22, 15, 53, 26, 15, 15, 18, 25, 22, 9, 15, 51, 16, 24, 25, 40, 25, 17, 19, 16, 21, 11, 17, 15, 14, 24, 10, 29, 16, 11, 9, 11, 2, 8, 20, 17, 17, 29, 13, 16, 25, 8, 27, 37, 19, 14, 20, 10, 20, 20, 9, 23, 23, 5, 29, 20, 29, 8, 21, 12, 31, 32, 25, 16, 46, 27, 35, 8, 17, 21, 74, 12, 56, 10, 23, 25, 11, 11, 22, 20, 8, 33, 4, 8, 19, 31, 33, 31, 19, 56, 27, 28, 15, 18, 5, 10, 33, 20, 23, 32, 36, 17, 44, 23, 24, 15, 12, 36, 18, 13, 16, 19, 35, 1, 31, 7, 16, 14, 11, 30, 40, 66, 22, 11, 31, 23, 51, 24, 13, 42, 16, 31, 14, 39, 33, 16, 32, 29, 33, 34, 35, 29, 16, 18, 25, 17, 24, 37, 21, 16, 29, 17, 17, 22, 24, 24, 35, 34, 20, 2, 8, 30, 20, 14, 15, 11, 23, 29, 14, 15, 36, 2, 41, 27, 13, 5, 23, 22, 15, 34, 24, 18, 33, 22, 1, 13, 1, 16, 1, 27, 12, 11, 1, 13, 17, 1, 10, 3, 4, 1, 11, 5, 4, 1, 1, 6, 1, 5, 1, 10, 29, 5, 21, 2, 8, 6, 2, 26, 3, 18, 4, 13, 8, 19, 2, 3, 10, 23, 2, 1, 2, 3, 1, 2, 22, 2, 14, 21, 1, 2, 16, 1, 10, 16, 1, 16, 2, 2, 3, 15, 4, 2, 16, 8, 5, 1, 4, 16, 4, 2, 32, 4, 3, 7, 1, 16, 1, 4, 1, 2, 1, 2, 21, 1, 2, 20, 1, 2, 2, 25, 20, 20, 23, 3, 13, 14, 16, 9, 16, 15, 16, 9, 12, 11, 18, 15, 18, 45, 25, 25, 16, 19, 25, 27, 23, 18, 24, 14, 40, 4, 8, 25, 27, 13, 5, 25, 16, 27, 8, 27, 13, 21, 17, 13, 32, 27, 42, 36, 10, 20, 20, 17, 17, 26, 34, 19, 31, 34, 12, 22, 36, 70, 21, 19, 27, 7, 8, 16, 15, 50, 28, 13, 23, 16, 60, 7, 19, 16, 12, 25, 28, 10, 10, 18, 17, 7, 3, 29, 63, 19, 26, 11, 28, 24, 10, 27, 32, 9, 25, 8, 24, 14, 21, 47, 18, 20, 13, 34, 20, 18, 23, 8, 17, 17, 21, 17, 33, 17, 13, 70, 11, 28, 28, 49, 18, 18, 16, 16, 18, 58, 12, 17, 33, 26, 18, 14, 24, 21, 18, 6, 16, 31, 16, 27, 24, 16, 8, 22, 38, 49, 44, 20, 14, 27, 20, 25, 32, 33, 16, 25, 24, 37, 20, 15, 12, 32, 23, 32, 15, 18, 12, 16, 19, 18, 16, 15, 1, 12, 9, 12, 28, 15, 15, 14, 26, 23, 33, 26, 18, 18, 16, 15, 25, 15, 31, 25, 10, 17, 3, 11, 18, 45, 9, 50, 10, 11, 2, 10, 5, 2, 22, 7, 11, 2, 15, 8, 20, 8, 2, 1, 34, 1, 7, 15, 1, 8, 62, 27, 38, 32, 36, 34, 10, 16, 23, 41, 30, 12, 25, 23, 17, 50, 20, 14, 20, 15, 11, 29, 23, 15, 31, 16, 17, 12, 8, 31, 21, 33, 20, 25, 19, 17, 15, 10, 14, 13, 12, 12, 18, 6, 12, 40, 25, 27, 10, 29, 15, 23, 25, 18, 17, 28, 22, 10, 42, 7, 24, 28, 44, 19, 20, 14, 17, 29, 36, 12, 9, 26, 16, 10, 49, 28, 20, 24, 10, 13, 39, 33, 30, 65, 23, 11, 20, 8, 14, 16, 12, 18, 19, 13, 19, 29, 20, 13, 25, 11, 25, 17, 18, 21, 35, 14, 23, 27, 17, 20, 44, 10, 50, 6, 27, 11, 26, 27, 41, 33, 22, 22, 10, 23, 16, 6, 25, 37, 47, 16, 36, 13, 27, 33, 27, 34, 36, 24, 23, 14, 27, 25, 27, 27, 22, 17, 9, 12, 21, 87, 37, 19, 34, 27, 19, 9, 23, 7, 14, 15, 18, 23, 17, 27, 16, 20, 11, 14, 11, 27, 36, 19, 11, 13, 24, 18, 10, 9, 15, 7, 9, 12, 29, 1, 31, 8, 25, 22, 15, 9, 18, 17, 16, 21, 16, 30, 17, 24, 22, 25, 15, 23, 24, 34, 20, 41, 17, 15, 16, 32, 3, 18, 19, 40, 16, 18, 20, 20, 26, 25, 21, 22, 19, 17, 20, 66, 52, 36, 14, 31, 39, 67, 42, 34, 9, 12, 28, 11, 18, 27, 21, 17, 6, 16, 19, 26, 18, 40, 40, 22, 15, 11, 12, 10, 21, 39, 49, 21, 20, 17, 16, 20, 11, 30, 29, 8, 23, 14, 34, 21, 17, 43, 29, 22, 13, 31, 23, 38, 5, 15, 16, 13, 15, 21, 26, 15, 24, 17, 18, 21, 12, 11, 18, 18, 20, 7, 12, 8, 9, 19, 11, 11, 30, 29, 19, 17, 9, 12, 9, 25, 43, 17, 19, 36, 46, 6, 8, 34, 26, 17, 41, 33, 27, 25, 16, 24, 19, 9, 19, 9, 11, 19, 27, 25, 16, 16, 13, 12, 18, 15, 14, 6, 35, 10, 15, 10, 28, 15, 30, 31, 39, 23, 27, 29, 15, 18, 33, 5, 6, 8, 16, 17, 1, 19, 18, 33, 19, 12, 4, 1, 11, 1, 22, 1, 8, 1, 25, 1, 8, 1, 1, 1, 15, 1, 53, 1, 15, 12, 13, 4, 21, 14, 31, 17, 10, 16, 16, 10, 20, 13, 19, 24, 23, 27, 18, 11, 82, 24, 23, 17, 19, 6, 20, 17, 11, 17, 16, 22, 6, 16, 15, 38, 10, 17, 19, 45, 13, 11, 9, 23, 13, 7, 9, 15, 10, 20, 16, 23, 26, 9, 13, 21, 12, 18, 2, 1, 7, 1, 1, 8, 4, 3, 28, 9, 1, 1, 24, 1, 1, 17, 1, 1, 1, 1, 1, 1, 35, 1, 7, 20, 8, 1, 17, 15, 1, 17, 23, 22, 14, 5, 1, 1, 3, 1, 3, 3, 2, 1, 2, 1, 3, 2, 2, 1, 14, 1, 1, 6, 31, 7, 1, 13, 22, 4, 24, 29, 36, 17, 27, 30, 13, 11, 3, 5, 16, 8, 15, 33, 32, 19, 7, 29, 11, 11, 24, 11, 23, 13, 18, 11, 13, 19, 23, 16, 21, 5, 30, 19, 29, 8, 28, 11, 23, 14, 21, 18, 14, 21, 11, 19, 25, 5, 24, 18, 35, 41, 16, 28, 11, 10, 11, 11, 32, 8, 11, 13, 33, 30, 23, 31, 15, 22, 21, 15, 29, 16, 22, 10, 16, 36, 36, 14, 11, 22, 19, 18, 12, 19, 36, 21, 35, 35, 8, 16, 4, 33, 11, 21, 12, 17, 23, 9, 19, 26, 15, 15, 16, 11, 12, 29, 18, 19, 27, 45, 29, 26, 21, 22, 21, 17, 35, 10, 22, 19, 13, 10, 48, 26, 10, 29, 28, 13, 26, 11, 8, 12, 19, 19, 23, 20, 33, 28, 5, 25, 12, 35, 26, 17, 9, 15, 39, 23, 25, 36, 13, 38, 16, 12, 19, 12, 28, 27, 40, 14, 14, 17, 10, 23, 14, 12, 43, 37, 31, 46, 33, 57, 30, 24, 18, 18, 17, 10, 9, 26, 15, 10, 16, 35, 30, 22, 16, 34, 33, 17, 20, 24, 27, 10, 11, 36, 18, 20, 8, 17, 30, 22, 14, 26, 14, 31, 17, 18, 17, 55, 45, 16, 11, 25, 3, 18, 23, 22, 6, 20, 25, 11, 7, 18, 29, 29, 19, 23, 1, 14, 18, 10, 15, 32, 22, 24, 33, 6, 25, 33, 16, 18, 10, 40, 45, 19, 28, 20, 17, 26, 31, 20, 14, 21, 11, 22, 33, 19, 16, 14, 32, 14, 15, 8, 26, 15, 15, 20, 8, 10, 18, 15, 10, 27, 14, 17, 22, 22, 26, 4, 11, 14, 20, 10, 32, 9, 12, 40, 62, 89, 118, 23, 9, 37, 13, 14, 15, 20, 7, 18, 12, 12, 20, 8, 14, 23, 29, 14, 43, 37, 15, 12, 21, 37, 23, 43, 34, 24, 9, 40, 11, 8, 32, 33, 14, 34, 12, 9, 20, 31, 21, 54, 29, 21, 1, 40, 63, 36, 52, 13, 24, 26, 49, 7, 14, 9, 6, 22, 23, 6, 31, 14, 40, 20, 51, 48, 17, 22, 15, 9, 17, 10, 18, 14, 43, 26, 20, 23, 29, 38, 30, 28, 6, 35, 15, 28, 15, 25, 40, 15, 12, 38, 21, 16, 16, 25, 25, 35, 34, 20, 27, 31, 10, 16, 8, 17, 14, 17, 17, 16, 29, 26, 37, 20, 16, 33, 6, 23, 16, 9, 13, 19, 21, 23, 28, 21, 1, 16, 9, 16, 15, 11, 11, 16, 11, 14, 5, 33, 31, 31, 10, 20, 20, 1, 18, 32, 14, 26, 27, 6, 10, 3, 7, 5, 30, 9, 7, 12, 1, 27, 6, 10, 15, 5, 15, 12, 16, 19, 16, 13, 38, 33, 11, 3, 35, 37, 18, 23, 14, 25, 31, 17, 34, 7, 15, 21, 42, 21, 15, 3, 12, 17, 16, 15, 19, 18, 17, 20, 12, 16, 21, 42, 13, 15, 19, 16, 16, 12, 9, 28, 3, 8, 5, 19, 4, 13, 26, 15, 25, 13, 14, 13, 29, 42, 8, 12, 5, 16, 12, 10, 13, 13, 18, 10, 40, 21, 18, 18, 40, 43, 10, 13, 12, 18, 17, 33, 45, 11, 13, 27, 2, 11, 16, 1, 11, 3, 9, 21, 36, 23, 26, 19, 31, 13, 19, 43]\n"
     ]
    },
    {
     "ename": "NameError",
     "evalue": "name 'ner_counts_val' is not defined",
     "output_type": "error",
     "traceback": [
      "\u001b[0;31m---------------------------------------------------------------------------\u001b[0m",
      "\u001b[0;31mNameError\u001b[0m                                 Traceback (most recent call last)",
      "\u001b[0;32m<ipython-input-26-c02541875002>\u001b[0m in \u001b[0;36m<module>\u001b[0;34m\u001b[0m\n\u001b[0;32m----> 1\u001b[0;31m \u001b[0mdataset\u001b[0m\u001b[0;34m.\u001b[0m\u001b[0mplot_sample_length_distribution\u001b[0m\u001b[0;34m(\u001b[0m\u001b[0;34m)\u001b[0m\u001b[0;34m\u001b[0m\u001b[0;34m\u001b[0m\u001b[0m\n\u001b[0m",
      "\u001b[0;32m~/lt2316-h20-aa/aa/data_loading.py\u001b[0m in \u001b[0;36mplot_sample_length_distribution\u001b[0;34m(self)\u001b[0m\n\u001b[1;32m    251\u001b[0m         \u001b[0mlength_train\u001b[0m \u001b[0;34m=\u001b[0m \u001b[0;34m[\u001b[0m\u001b[0mlen\u001b[0m\u001b[0;34m(\u001b[0m\u001b[0mx\u001b[0m\u001b[0;34m)\u001b[0m \u001b[0;32mfor\u001b[0m \u001b[0mx\u001b[0m \u001b[0;32min\u001b[0m \u001b[0mself\u001b[0m\u001b[0;34m.\u001b[0m\u001b[0mtrain_labels\u001b[0m\u001b[0;34m]\u001b[0m\u001b[0;34m\u001b[0m\u001b[0;34m\u001b[0m\u001b[0m\n\u001b[1;32m    252\u001b[0m         \u001b[0mprint\u001b[0m \u001b[0;34m(\u001b[0m\u001b[0;34m\"length_train\"\u001b[0m\u001b[0;34m,\u001b[0m \u001b[0mlength_train\u001b[0m\u001b[0;34m)\u001b[0m\u001b[0;34m\u001b[0m\u001b[0;34m\u001b[0m\u001b[0m\n\u001b[0;32m--> 253\u001b[0;31m         \u001b[0mlength_val\u001b[0m \u001b[0;34m=\u001b[0m \u001b[0;34m[\u001b[0m\u001b[0mlen\u001b[0m\u001b[0;34m(\u001b[0m\u001b[0mx\u001b[0m\u001b[0;34m)\u001b[0m \u001b[0;32mfor\u001b[0m \u001b[0mx\u001b[0m \u001b[0;32min\u001b[0m \u001b[0mself\u001b[0m\u001b[0;34m.\u001b[0m\u001b[0mval_labels\u001b[0m\u001b[0;34m]\u001b[0m\u001b[0;34m\u001b[0m\u001b[0;34m\u001b[0m\u001b[0m\n\u001b[0m\u001b[1;32m    254\u001b[0m         \u001b[0mprint\u001b[0m \u001b[0;34m(\u001b[0m\u001b[0;34m\"ner_counts_val\"\u001b[0m\u001b[0;34m,\u001b[0m \u001b[0mner_counts_val\u001b[0m\u001b[0;34m)\u001b[0m\u001b[0;34m\u001b[0m\u001b[0;34m\u001b[0m\u001b[0m\n\u001b[1;32m    255\u001b[0m         \u001b[0mlength_test\u001b[0m \u001b[0;34m=\u001b[0m \u001b[0;34m[\u001b[0m\u001b[0mlen\u001b[0m\u001b[0;34m(\u001b[0m\u001b[0mx\u001b[0m\u001b[0;34m)\u001b[0m \u001b[0;32mfor\u001b[0m \u001b[0mx\u001b[0m \u001b[0;32min\u001b[0m \u001b[0mself\u001b[0m\u001b[0;34m.\u001b[0m\u001b[0mtest_labels\u001b[0m\u001b[0;34m]\u001b[0m\u001b[0;34m\u001b[0m\u001b[0;34m\u001b[0m\u001b[0m\n",
      "\u001b[0;31mNameError\u001b[0m: name 'ner_counts_val' is not defined"
     ]
    }
   ],
   "source": [
    "dataset.plot_sample_length_distribution()"
   ]
  },
  {
   "cell_type": "code",
   "execution_count": null,
   "metadata": {},
   "outputs": [],
   "source": [
    "#dataset.plot_ner_cooccurence_venndiagram()"
   ]
  }
 ],
 "metadata": {
  "kernelspec": {
   "display_name": "Python 3",
   "language": "python",
   "name": "python3"
  },
  "language_info": {
   "codemirror_mode": {
    "name": "ipython",
    "version": 3
   },
   "file_extension": ".py",
   "mimetype": "text/x-python",
   "name": "python",
   "nbconvert_exporter": "python",
   "pygments_lexer": "ipython3",
   "version": "3.7.4"
  }
 },
 "nbformat": 4,
 "nbformat_minor": 4
}
