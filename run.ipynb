{
 "cells": [
  {
   "cell_type": "markdown",
   "metadata": {},
   "source": [
    "# Assignment 1"
   ]
  },
  {
   "cell_type": "markdown",
   "metadata": {},
   "source": [
    "## Loading data"
   ]
  },
  {
   "cell_type": "code",
   "execution_count": 1,
   "metadata": {
    "scrolled": false
   },
   "outputs": [],
   "source": [
    "from aa import DataLoader\n",
    "from aa import extract_features\n",
    "from aa import check_output"
   ]
  },
  {
   "cell_type": "code",
   "execution_count": 2,
   "metadata": {},
   "outputs": [],
   "source": [
    "# IN THIS BOX YOU ARE ALLOWED TO ADD ANY CODE FOR SETTING UP A PYTORCH DEVICE\n",
    "import torch\n",
    "\n",
    "device = torch.device(\"cuda:1\")"
   ]
  },
  {
   "cell_type": "code",
   "execution_count": 3,
   "metadata": {
    "scrolled": true
   },
   "outputs": [],
   "source": [
    "dataset = DataLoader(data_dir=\"DDICorpus\", device=device)"
   ]
  },
  {
   "cell_type": "code",
   "execution_count": 4,
   "metadata": {
    "scrolled": false
   },
   "outputs": [
    {
     "data": {
      "text/html": [
       "<div>\n",
       "<style scoped>\n",
       "    .dataframe tbody tr th:only-of-type {\n",
       "        vertical-align: middle;\n",
       "    }\n",
       "\n",
       "    .dataframe tbody tr th {\n",
       "        vertical-align: top;\n",
       "    }\n",
       "\n",
       "    .dataframe thead th {\n",
       "        text-align: right;\n",
       "    }\n",
       "</style>\n",
       "<table border=\"1\" class=\"dataframe\">\n",
       "  <thead>\n",
       "    <tr style=\"text-align: right;\">\n",
       "      <th></th>\n",
       "      <th>sentence_id</th>\n",
       "      <th>token_id</th>\n",
       "      <th>char_start_id</th>\n",
       "      <th>char_end_id</th>\n",
       "      <th>split</th>\n",
       "    </tr>\n",
       "  </thead>\n",
       "  <tbody>\n",
       "    <tr>\n",
       "      <th>0</th>\n",
       "      <td>DDI-MedLine.d69.s0</td>\n",
       "      <td>0</td>\n",
       "      <td>0</td>\n",
       "      <td>12</td>\n",
       "      <td>VAL</td>\n",
       "    </tr>\n",
       "    <tr>\n",
       "      <th>1</th>\n",
       "      <td>DDI-MedLine.d69.s0</td>\n",
       "      <td>1</td>\n",
       "      <td>13</td>\n",
       "      <td>23</td>\n",
       "      <td>VAL</td>\n",
       "    </tr>\n",
       "    <tr>\n",
       "      <th>2</th>\n",
       "      <td>DDI-MedLine.d69.s0</td>\n",
       "      <td>2</td>\n",
       "      <td>24</td>\n",
       "      <td>26</td>\n",
       "      <td>VAL</td>\n",
       "    </tr>\n",
       "    <tr>\n",
       "      <th>3</th>\n",
       "      <td>DDI-MedLine.d69.s0</td>\n",
       "      <td>3</td>\n",
       "      <td>27</td>\n",
       "      <td>35</td>\n",
       "      <td>VAL</td>\n",
       "    </tr>\n",
       "    <tr>\n",
       "      <th>4</th>\n",
       "      <td>DDI-MedLine.d69.s0</td>\n",
       "      <td>4</td>\n",
       "      <td>36</td>\n",
       "      <td>51</td>\n",
       "      <td>VAL</td>\n",
       "    </tr>\n",
       "  </tbody>\n",
       "</table>\n",
       "</div>"
      ],
      "text/plain": [
       "          sentence_id  token_id  char_start_id  char_end_id split\n",
       "0  DDI-MedLine.d69.s0         0              0           12   VAL\n",
       "1  DDI-MedLine.d69.s0         1             13           23   VAL\n",
       "2  DDI-MedLine.d69.s0         2             24           26   VAL\n",
       "3  DDI-MedLine.d69.s0         3             27           35   VAL\n",
       "4  DDI-MedLine.d69.s0         4             36           51   VAL"
      ]
     },
     "execution_count": 4,
     "metadata": {},
     "output_type": "execute_result"
    }
   ],
   "source": [
    "dataset.data_df.head()"
   ]
  },
  {
   "cell_type": "code",
   "execution_count": 5,
   "metadata": {
    "scrolled": true
   },
   "outputs": [
    {
     "data": {
      "text/html": [
       "<div>\n",
       "<style scoped>\n",
       "    .dataframe tbody tr th:only-of-type {\n",
       "        vertical-align: middle;\n",
       "    }\n",
       "\n",
       "    .dataframe tbody tr th {\n",
       "        vertical-align: top;\n",
       "    }\n",
       "\n",
       "    .dataframe thead th {\n",
       "        text-align: right;\n",
       "    }\n",
       "</style>\n",
       "<table border=\"1\" class=\"dataframe\">\n",
       "  <thead>\n",
       "    <tr style=\"text-align: right;\">\n",
       "      <th></th>\n",
       "      <th>sentence_id</th>\n",
       "      <th>ner_id</th>\n",
       "      <th>char_start_id</th>\n",
       "      <th>char_end_id</th>\n",
       "    </tr>\n",
       "  </thead>\n",
       "  <tbody>\n",
       "    <tr>\n",
       "      <th>0</th>\n",
       "      <td>DDI-MedLine.d69.s0</td>\n",
       "      <td>4</td>\n",
       "      <td>70</td>\n",
       "      <td>84</td>\n",
       "    </tr>\n",
       "    <tr>\n",
       "      <th>1</th>\n",
       "      <td>DDI-MedLine.d69.s0</td>\n",
       "      <td>4</td>\n",
       "      <td>141</td>\n",
       "      <td>150</td>\n",
       "    </tr>\n",
       "    <tr>\n",
       "      <th>2</th>\n",
       "      <td>DDI-MedLine.d69.s0</td>\n",
       "      <td>4</td>\n",
       "      <td>156</td>\n",
       "      <td>165</td>\n",
       "    </tr>\n",
       "    <tr>\n",
       "      <th>3</th>\n",
       "      <td>DDI-MedLine.d69.s1</td>\n",
       "      <td>4</td>\n",
       "      <td>28</td>\n",
       "      <td>42</td>\n",
       "    </tr>\n",
       "    <tr>\n",
       "      <th>4</th>\n",
       "      <td>DDI-MedLine.d69.s1</td>\n",
       "      <td>4</td>\n",
       "      <td>96</td>\n",
       "      <td>105</td>\n",
       "    </tr>\n",
       "  </tbody>\n",
       "</table>\n",
       "</div>"
      ],
      "text/plain": [
       "          sentence_id  ner_id  char_start_id  char_end_id\n",
       "0  DDI-MedLine.d69.s0       4             70           84\n",
       "1  DDI-MedLine.d69.s0       4            141          150\n",
       "2  DDI-MedLine.d69.s0       4            156          165\n",
       "3  DDI-MedLine.d69.s1       4             28           42\n",
       "4  DDI-MedLine.d69.s1       4             96          105"
      ]
     },
     "execution_count": 5,
     "metadata": {},
     "output_type": "execute_result"
    }
   ],
   "source": [
    "dataset.ner_df.head()"
   ]
  },
  {
   "cell_type": "code",
   "execution_count": 6,
   "metadata": {
    "scrolled": true
   },
   "outputs": [
    {
     "data": {
      "text/plain": [
       "[['differential', 0],\n",
       " ['regulation', 1],\n",
       " ['of', 2],\n",
       " ['tyrosine', 3],\n",
       " ['phosphorylation', 4],\n",
       " ['in', 5],\n",
       " ['tumor', 6],\n",
       " ['cells', 7],\n",
       " ['by', 8],\n",
       " ['contortrostatin', 9],\n",
       " ['a', 10],\n",
       " ['homodimeric', 11],\n",
       " ['disintegrin', 12],\n",
       " ['and', 13],\n",
       " ['monomeric', 14]]"
      ]
     },
     "execution_count": 6,
     "metadata": {},
     "output_type": "execute_result"
    }
   ],
   "source": [
    "dataset.vocab[:15]"
   ]
  },
  {
   "cell_type": "code",
   "execution_count": 7,
   "metadata": {
    "scrolled": true
   },
   "outputs": [
    {
     "data": {
      "text/plain": [
       "{0: 'O', 1: 'drug', 2: 'group', 3: 'brand', 4: 'drug_n'}"
      ]
     },
     "execution_count": 7,
     "metadata": {},
     "output_type": "execute_result"
    }
   ],
   "source": [
    "dataset.id2ner"
   ]
  },
  {
   "cell_type": "code",
   "execution_count": 9,
   "metadata": {},
   "outputs": [
    {
     "data": {
      "text/plain": [
       "87"
      ]
     },
     "execution_count": 9,
     "metadata": {},
     "output_type": "execute_result"
    }
   ],
   "source": [
    "dataset.max_sample_length"
   ]
  },
  {
   "cell_type": "code",
   "execution_count": 17,
   "metadata": {
    "scrolled": true
   },
   "outputs": [
    {
     "data": {
      "text/plain": [
       "'human pharmacokinetics data indicate that oral DRUG:ketoconazole potently inhibits the metabolism of DRUG:cisapride resulting in an eightfold increase in the mean auc of DRUG:cisapride'"
      ]
     },
     "execution_count": 17,
     "metadata": {},
     "output_type": "execute_result"
    }
   ],
   "source": [
    "dataset.get_random_sample()"
   ]
  },
  {
   "cell_type": "markdown",
   "metadata": {},
   "source": [
    "### Data Exploration"
   ]
  },
  {
   "cell_type": "code",
   "execution_count": 18,
   "metadata": {},
   "outputs": [
    {
     "data": {
      "image/png": "[encoded data removed]",
      "text/plain": [
       "<Figure size 432x288 with 1 Axes>"
      ]
     },
     "metadata": {
      "needs_background": "light"
     },
     "output_type": "display_data"
    }
   ],
   "source": [
    "dataset.plot_split_ner_distribution()"
   ]
  },
  {
   "cell_type": "markdown",
   "metadata": {},
   "source": [
    "### Labels"
   ]
  },
  {
   "cell_type": "code",
   "execution_count": 19,
   "metadata": {
    "scrolled": true
   },
   "outputs": [],
   "source": [
    "train_y, val_y, test_y = check_output(dataset.get_y())"
   ]
  },
  {
   "cell_type": "markdown",
   "metadata": {},
   "source": [
    "## Extracting Features"
   ]
  },
  {
   "cell_type": "code",
   "execution_count": 4,
   "metadata": {},
   "outputs": [
    {
     "name": "stdout",
     "output_type": "stream",
     "text": [
      "5079 1753 665\n",
      "[[2, 0, 100, 2, 6], [100, 2, 517, 2, 20], [517, 100, 581, 12, 19], [581, 517, 582, 8, 19], [582, 581, 583, 3, 15], [583, 582, 520, 5, 5], [520, 583, 75, 10, 14], [75, 520, 397, 4, 19], [397, 75, 526, 7, 14], [526, 397, 18, 4, 5], [18, 526, 531, 3, 5], [531, 18, 403, 8, 19], [403, 531, 29, 4, 5], [29, 403, 127, 4, 20], [127, 29, 0, 4, 25], [-1, -1, -1, -1, -1], [-1, -1, -1, -1, -1], [-1, -1, -1, -1, -1], [-1, -1, -1, -1, -1], [-1, -1, -1, -1, -1], [-1, -1, -1, -1, -1], [-1, -1, -1, -1, -1], [-1, -1, -1, -1, -1], [-1, -1, -1, -1, -1], [-1, -1, -1, -1, -1], [-1, -1, -1, -1, -1], [-1, -1, -1, -1, -1], [-1, -1, -1, -1, -1], [-1, -1, -1, -1, -1], [-1, -1, -1, -1, -1], [-1, -1, -1, -1, -1], [-1, -1, -1, -1, -1], [-1, -1, -1, -1, -1], [-1, -1, -1, -1, -1], [-1, -1, -1, -1, -1], [-1, -1, -1, -1, -1], [-1, -1, -1, -1, -1], [-1, -1, -1, -1, -1], [-1, -1, -1, -1, -1], [-1, -1, -1, -1, -1], [-1, -1, -1, -1, -1], [-1, -1, -1, -1, -1], [-1, -1, -1, -1, -1], [-1, -1, -1, -1, -1], [-1, -1, -1, -1, -1], [-1, -1, -1, -1, -1], [-1, -1, -1, -1, -1], [-1, -1, -1, -1, -1], [-1, -1, -1, -1, -1], [-1, -1, -1, -1, -1], [-1, -1, -1, -1, -1], [-1, -1, -1, -1, -1], [-1, -1, -1, -1, -1], [-1, -1, -1, -1, -1], [-1, -1, -1, -1, -1], [-1, -1, -1, -1, -1], [-1, -1, -1, -1, -1], [-1, -1, -1, -1, -1], [-1, -1, -1, -1, -1], [-1, -1, -1, -1, -1], [-1, -1, -1, -1, -1], [-1, -1, -1, -1, -1], [-1, -1, -1, -1, -1], [-1, -1, -1, -1, -1], [-1, -1, -1, -1, -1], [-1, -1, -1, -1, -1], [-1, -1, -1, -1, -1], [-1, -1, -1, -1, -1], [-1, -1, -1, -1, -1], [-1, -1, -1, -1, -1], [-1, -1, -1, -1, -1], [-1, -1, -1, -1, -1], [-1, -1, -1, -1, -1], [-1, -1, -1, -1, -1], [-1, -1, -1, -1, -1], [-1, -1, -1, -1, -1], [-1, -1, -1, -1, -1], [-1, -1, -1, -1, -1], [-1, -1, -1, -1, -1], [-1, -1, -1, -1, -1], [-1, -1, -1, -1, -1], [-1, -1, -1, -1, -1], [-1, -1, -1, -1, -1], [-1, -1, -1, -1, -1], [-1, -1, -1, -1, -1], [-1, -1, -1, -1, -1], [-1, -1, -1, -1, -1]]\n",
      "tensor([[  2.,   0., 100.,   2.,   6.],\n",
      "        [100.,   2., 517.,   2.,  20.],\n",
      "        [517., 100., 581.,  12.,  19.],\n",
      "        [581., 517., 582.,   8.,  19.],\n",
      "        [582., 581., 583.,   3.,  15.],\n",
      "        [583., 582., 520.,   5.,   5.],\n",
      "        [520., 583.,  75.,  10.,  14.],\n",
      "        [ 75., 520., 397.,   4.,  19.],\n",
      "        [397.,  75., 526.,   7.,  14.],\n",
      "        [526., 397.,  18.,   4.,   5.],\n",
      "        [ 18., 526., 531.,   3.,   5.],\n",
      "        [531.,  18., 403.,   8.,  19.],\n",
      "        [403., 531.,  29.,   4.,   5.],\n",
      "        [ 29., 403., 127.,   4.,  20.],\n",
      "        [127.,  29.,   0.,   4.,  25.],\n",
      "        [ -1.,  -1.,  -1.,  -1.,  -1.],\n",
      "        [ -1.,  -1.,  -1.,  -1.,  -1.],\n",
      "        [ -1.,  -1.,  -1.,  -1.,  -1.],\n",
      "        [ -1.,  -1.,  -1.,  -1.,  -1.],\n",
      "        [ -1.,  -1.,  -1.,  -1.,  -1.],\n",
      "        [ -1.,  -1.,  -1.,  -1.,  -1.],\n",
      "        [ -1.,  -1.,  -1.,  -1.,  -1.],\n",
      "        [ -1.,  -1.,  -1.,  -1.,  -1.],\n",
      "        [ -1.,  -1.,  -1.,  -1.,  -1.],\n",
      "        [ -1.,  -1.,  -1.,  -1.,  -1.],\n",
      "        [ -1.,  -1.,  -1.,  -1.,  -1.],\n",
      "        [ -1.,  -1.,  -1.,  -1.,  -1.],\n",
      "        [ -1.,  -1.,  -1.,  -1.,  -1.],\n",
      "        [ -1.,  -1.,  -1.,  -1.,  -1.],\n",
      "        [ -1.,  -1.,  -1.,  -1.,  -1.],\n",
      "        [ -1.,  -1.,  -1.,  -1.,  -1.],\n",
      "        [ -1.,  -1.,  -1.,  -1.,  -1.],\n",
      "        [ -1.,  -1.,  -1.,  -1.,  -1.],\n",
      "        [ -1.,  -1.,  -1.,  -1.,  -1.],\n",
      "        [ -1.,  -1.,  -1.,  -1.,  -1.],\n",
      "        [ -1.,  -1.,  -1.,  -1.,  -1.],\n",
      "        [ -1.,  -1.,  -1.,  -1.,  -1.],\n",
      "        [ -1.,  -1.,  -1.,  -1.,  -1.],\n",
      "        [ -1.,  -1.,  -1.,  -1.,  -1.],\n",
      "        [ -1.,  -1.,  -1.,  -1.,  -1.],\n",
      "        [ -1.,  -1.,  -1.,  -1.,  -1.],\n",
      "        [ -1.,  -1.,  -1.,  -1.,  -1.],\n",
      "        [ -1.,  -1.,  -1.,  -1.,  -1.],\n",
      "        [ -1.,  -1.,  -1.,  -1.,  -1.],\n",
      "        [ -1.,  -1.,  -1.,  -1.,  -1.],\n",
      "        [ -1.,  -1.,  -1.,  -1.,  -1.],\n",
      "        [ -1.,  -1.,  -1.,  -1.,  -1.],\n",
      "        [ -1.,  -1.,  -1.,  -1.,  -1.],\n",
      "        [ -1.,  -1.,  -1.,  -1.,  -1.],\n",
      "        [ -1.,  -1.,  -1.,  -1.,  -1.],\n",
      "        [ -1.,  -1.,  -1.,  -1.,  -1.],\n",
      "        [ -1.,  -1.,  -1.,  -1.,  -1.],\n",
      "        [ -1.,  -1.,  -1.,  -1.,  -1.],\n",
      "        [ -1.,  -1.,  -1.,  -1.,  -1.],\n",
      "        [ -1.,  -1.,  -1.,  -1.,  -1.],\n",
      "        [ -1.,  -1.,  -1.,  -1.,  -1.],\n",
      "        [ -1.,  -1.,  -1.,  -1.,  -1.],\n",
      "        [ -1.,  -1.,  -1.,  -1.,  -1.],\n",
      "        [ -1.,  -1.,  -1.,  -1.,  -1.],\n",
      "        [ -1.,  -1.,  -1.,  -1.,  -1.],\n",
      "        [ -1.,  -1.,  -1.,  -1.,  -1.],\n",
      "        [ -1.,  -1.,  -1.,  -1.,  -1.],\n",
      "        [ -1.,  -1.,  -1.,  -1.,  -1.],\n",
      "        [ -1.,  -1.,  -1.,  -1.,  -1.],\n",
      "        [ -1.,  -1.,  -1.,  -1.,  -1.],\n",
      "        [ -1.,  -1.,  -1.,  -1.,  -1.],\n",
      "        [ -1.,  -1.,  -1.,  -1.,  -1.],\n",
      "        [ -1.,  -1.,  -1.,  -1.,  -1.],\n",
      "        [ -1.,  -1.,  -1.,  -1.,  -1.],\n",
      "        [ -1.,  -1.,  -1.,  -1.,  -1.],\n",
      "        [ -1.,  -1.,  -1.,  -1.,  -1.],\n",
      "        [ -1.,  -1.,  -1.,  -1.,  -1.],\n",
      "        [ -1.,  -1.,  -1.,  -1.,  -1.],\n",
      "        [ -1.,  -1.,  -1.,  -1.,  -1.],\n",
      "        [ -1.,  -1.,  -1.,  -1.,  -1.],\n",
      "        [ -1.,  -1.,  -1.,  -1.,  -1.],\n",
      "        [ -1.,  -1.,  -1.,  -1.,  -1.],\n",
      "        [ -1.,  -1.,  -1.,  -1.,  -1.],\n",
      "        [ -1.,  -1.,  -1.,  -1.,  -1.],\n",
      "        [ -1.,  -1.,  -1.,  -1.,  -1.],\n",
      "        [ -1.,  -1.,  -1.,  -1.,  -1.],\n",
      "        [ -1.,  -1.,  -1.,  -1.,  -1.],\n",
      "        [ -1.,  -1.,  -1.,  -1.,  -1.],\n",
      "        [ -1.,  -1.,  -1.,  -1.,  -1.],\n",
      "        [ -1.,  -1.,  -1.,  -1.,  -1.],\n",
      "        [ -1.,  -1.,  -1.,  -1.,  -1.],\n",
      "        [ -1.,  -1.,  -1.,  -1.,  -1.]], device='cuda:1')\n"
     ]
    }
   ],
   "source": [
    "train_X, val_X, test_X = check_output(extract_features(\n",
    "                                                        data=dataset.data_df,\n",
    "                                                        max_sample_length=dataset.max_sample_length,\n",
    "                                                        device=device,\n",
    "                                                        id2word=dataset.id2word\n",
    "                                                        #Add any addtional arguments here\n",
    "                                                       ))"
   ]
  },
  {
   "cell_type": "code",
   "execution_count": 4,
   "metadata": {},
   "outputs": [
    {
     "name": "stdout",
     "output_type": "stream",
     "text": [
      "5058 1774 665\n",
      "tensor([[608.,   0.,  10.,  10.,  19.],\n",
      "        [ 10., 608.,  13.,   1.,   1.],\n",
      "        [ 13.,  10.,  54.,   3.,   4.],\n",
      "        [ 54.,  13., 602.,   4.,   8.],\n",
      "        [602.,  54., 603.,   9.,   3.],\n",
      "        [603., 602., 604.,  11.,  13.],\n",
      "        [604., 603., 605.,   9.,   5.],\n",
      "        [605., 604., 606.,   5.,  14.],\n",
      "        [606., 605., 607.,   8.,  19.],\n",
      "        [607., 606.,   0.,  11.,   3.]])\n"
     ]
    }
   ],
   "source": [
    "train_X, val_X, test_X = extract_features(data=dataset.data_df,\n",
    "                                          max_sample_length=dataset.max_sample_length,\n",
    "                                          device=device,\n",
    "                                          id2word=dataset.id2word\n",
    "                                          #Add any addtional arguments here\n",
    "                                                       )"
   ]
  },
  {
   "cell_type": "code",
   "execution_count": 21,
   "metadata": {},
   "outputs": [
    {
     "name": "stdout",
     "output_type": "stream",
     "text": [
      "tensor([[ 0.,  0.,  1., 12., 12.],\n",
      "        [ 1.,  0.,  2., 10., 14.],\n",
      "        [ 2.,  1.,  3.,  2.,  6.],\n",
      "        [ 3.,  2.,  4.,  8.,  5.],\n",
      "        [ 4.,  3.,  5., 15., 14.],\n",
      "        [ 5.,  4.,  6.,  2., 14.],\n",
      "        [ 6.,  5.,  7.,  5., 18.],\n",
      "        [ 7.,  6.,  8.,  5., 19.],\n",
      "        [ 8.,  7.,  9.,  2., 25.],\n",
      "        [ 9.,  8., 10., 15., 14.],\n",
      "        [10.,  9., 11.,  1.,  1.],\n",
      "        [11., 10., 12., 11.,  3.],\n",
      "        [12., 11., 13., 11., 14.],\n",
      "        [13., 12., 14.,  3.,  4.],\n",
      "        [14., 13., 15.,  9.,  3.],\n",
      "        [15., 14., 16., 12., 19.],\n",
      "        [16., 15., 17., 10., 14.],\n",
      "        [17., 16.,  0., 10., 14.]])\n"
     ]
    },
    {
     "ename": "RuntimeError",
     "evalue": "invalid argument 0: Tensors must have same number of dimensions: got 2 and 1 at /pytorch/aten/src/TH/generic/THTensor.cpp:680",
     "output_type": "error",
     "traceback": [
      "\u001b[0;31m---------------------------------------------------------------------------\u001b[0m",
      "\u001b[0;31mRuntimeError\u001b[0m                              Traceback (most recent call last)",
      "\u001b[0;32m<ipython-input-21-e8fdd776fe56>\u001b[0m in \u001b[0;36m<module>\u001b[0;34m\u001b[0m\n\u001b[1;32m      4\u001b[0m     \u001b[0mprint\u001b[0m\u001b[0;34m(\u001b[0m\u001b[0msen\u001b[0m\u001b[0;34m)\u001b[0m\u001b[0;34m\u001b[0m\u001b[0;34m\u001b[0m\u001b[0m\n\u001b[1;32m      5\u001b[0m     \u001b[0;32mfor\u001b[0m \u001b[0mi\u001b[0m \u001b[0;32min\u001b[0m \u001b[0mrange\u001b[0m\u001b[0;34m(\u001b[0m\u001b[0;36m87\u001b[0m\u001b[0;34m-\u001b[0m\u001b[0mlen\u001b[0m\u001b[0;34m(\u001b[0m\u001b[0msen\u001b[0m\u001b[0;34m)\u001b[0m\u001b[0;34m)\u001b[0m\u001b[0;34m:\u001b[0m\u001b[0;34m\u001b[0m\u001b[0;34m\u001b[0m\u001b[0m\n\u001b[0;32m----> 6\u001b[0;31m         \u001b[0mtorch\u001b[0m\u001b[0;34m.\u001b[0m\u001b[0mcat\u001b[0m\u001b[0;34m(\u001b[0m\u001b[0;34m(\u001b[0m\u001b[0msen\u001b[0m\u001b[0;34m,\u001b[0m\u001b[0mC\u001b[0m\u001b[0;34m)\u001b[0m\u001b[0;34m,\u001b[0m\u001b[0;36m0\u001b[0m\u001b[0;34m)\u001b[0m\u001b[0;34m\u001b[0m\u001b[0;34m\u001b[0m\u001b[0m\n\u001b[0m\u001b[1;32m      7\u001b[0m \u001b[0;34m\u001b[0m\u001b[0m\n",
      "\u001b[0;31mRuntimeError\u001b[0m: invalid argument 0: Tensors must have same number of dimensions: got 2 and 1 at /pytorch/aten/src/TH/generic/THTensor.cpp:680"
     ]
    }
   ],
   "source": [
    "train=train_X\n",
    "C=torch.Tensor([-1,-1,-1,-1,-1])\n",
    "for sen in train:\n",
    "    print(sen)\n",
    "    for i in range(87-len(sen)):\n",
    "        torch.cat((sen,C),0)\n",
    "        "
   ]
  },
  {
   "cell_type": "markdown",
   "metadata": {},
   "source": [
    "## Bonus Part: Explore Some more"
   ]
  },
  {
   "cell_type": "code",
   "execution_count": 13,
   "metadata": {},
   "outputs": [],
   "source": [
    "#uncomment the code below if you want to do bonus part"
   ]
  },
  {
   "cell_type": "code",
   "execution_count": 5,
   "metadata": {},
   "outputs": [
    {
     "data": {
      "image/png": "[encoded data removed]",
      "text/plain": [
       "<Figure size 1080x360 with 1 Axes>"
      ]
     },
     "metadata": {
      "needs_background": "light"
     },
     "output_type": "display_data"
    }
   ],
   "source": [
    "dataset.plot_ner_per_sample_distribution()"
   ]
  },
  {
   "cell_type": "code",
   "execution_count": 6,
   "metadata": {},
   "outputs": [
    {
     "data": {
      "image/png": "[encoded data removed]",
      "text/plain": [
       "<Figure size 432x288 with 1 Axes>"
      ]
     },
     "metadata": {
      "needs_background": "light"
     },
     "output_type": "display_data"
    }
   ],
   "source": [
    "dataset.plot_sample_length_distribution()"
   ]
  },
  {
   "cell_type": "code",
   "execution_count": null,
   "metadata": {},
   "outputs": [],
   "source": [
    "#dataset.plot_ner_cooccurence_venndiagram()"
   ]
  },
  {
   "cell_type": "code",
   "execution_count": 8,
   "metadata": {},
   "outputs": [
    {
     "ename": "AttributeError",
     "evalue": "'dict' object has no attribute 'item'",
     "output_type": "error",
     "traceback": [
      "\u001b[0;31m---------------------------------------------------------------------------\u001b[0m",
      "\u001b[0;31mAttributeError\u001b[0m                            Traceback (most recent call last)",
      "\u001b[0;32m<ipython-input-8-5257ef4694a4>\u001b[0m in \u001b[0;36m<module>\u001b[0;34m\u001b[0m\n\u001b[0;32m----> 1\u001b[0;31m \u001b[0;34m\"a\"\u001b[0m \u001b[0;32min\u001b[0m \u001b[0mdataset\u001b[0m\u001b[0;34m.\u001b[0m\u001b[0mid2word\u001b[0m\u001b[0;34m.\u001b[0m\u001b[0mitem\u001b[0m\u001b[0;34m(\u001b[0m\u001b[0;34m)\u001b[0m\u001b[0;34m\u001b[0m\u001b[0;34m\u001b[0m\u001b[0m\n\u001b[0m",
      "\u001b[0;31mAttributeError\u001b[0m: 'dict' object has no attribute 'item'"
     ]
    }
   ],
   "source": [
    "\"a\" in dataset.id2word.item()"
   ]
  },
  {
   "cell_type": "code",
   "execution_count": null,
   "metadata": {},
   "outputs": [],
   "source": []
  },
  {
   "cell_type": "code",
   "execution_count": null,
   "metadata": {},
   "outputs": [],
   "source": []
  }
 ],
 "metadata": {
  "kernelspec": {
   "display_name": "Python 3",
   "language": "python",
   "name": "python3"
  },
  "language_info": {
   "codemirror_mode": {
    "name": "ipython",
    "version": 3
   },
   "file_extension": ".py",
   "mimetype": "text/x-python",
   "name": "python",
   "nbconvert_exporter": "python",
   "pygments_lexer": "ipython3",
   "version": "3.7.4"
  }
 },
 "nbformat": 4,
 "nbformat_minor": 4
}
